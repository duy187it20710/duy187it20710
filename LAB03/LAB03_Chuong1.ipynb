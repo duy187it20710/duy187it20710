{
  "nbformat": 4,
  "nbformat_minor": 0,
  "metadata": {
    "colab": {
      "name": "LAB03_Chuong1.ipynb",
      "provenance": [],
      "authorship_tag": "ABX9TyOPslaTk3RwFKbJL0iTeOFy",
      "include_colab_link": true
    },
    "kernelspec": {
      "name": "python3",
      "display_name": "Python 3"
    },
    "language_info": {
      "name": "python"
    }
  },
  "cells": [
    {
      "cell_type": "markdown",
      "metadata": {
        "id": "view-in-github",
        "colab_type": "text"
      },
      "source": [
        "<a href=\"https://colab.research.google.com/github/duy187it20710/laptrinhpythonnangcao/blob/main/LAB03/LAB03_Chuong1.ipynb\" target=\"_parent\"><img src=\"https://colab.research.google.com/assets/colab-badge.svg\" alt=\"Open In Colab\"/></a>"
      ]
    },
    {
      "cell_type": "markdown",
      "metadata": {
        "id": "TPiBG52TdUer"
      },
      "source": [
        "BÀI 1 :"
      ]
    },
    {
      "cell_type": "code",
      "metadata": {
        "colab": {
          "base_uri": "https://localhost:8080/"
        },
        "id": "OiAWbhfUW4sh",
        "outputId": "78849b1e-acb8-4a0e-9fc8-f6dccd1dd710"
      },
      "source": [
        "file = input('Which file would you like to back-up ? ')\n",
        "name_file = file.split('.')[0]  \n",
        "new_file = name_file + '_backup' + '.bak'\n",
        "backup = open(new_file, 'w')\n",
        "for line in open(file):\n",
        "    print(line)\n",
        "    backup.write(line)\n",
        "backup.close()"
      ],
      "execution_count": 1,
      "outputs": [
        {
          "output_type": "stream",
          "name": "stdout",
          "text": [
            "Which file would you like to back-up ? /content/sample_data/ngocduy.txt\n",
            "Thong tin sinh vien:\n",
            "\n",
            "Tran Nguyen Ngoc Duy - 187it20710\n",
            "\n",
            "Go Vap - TPHCM\n",
            "\n",
            "21 tuoi\n",
            "\n",
            "Hoc CNTT - Truong dai hoc Van Lang\n",
            "\n",
            "Bang diem: \n",
            "\n",
            "9\n",
            "\n",
            "-\n",
            "\n",
            "8\n",
            "\n",
            "7\n",
            "\n",
            "9\n",
            "\n",
            "7\n"
          ]
        }
      ]
    },
    {
      "cell_type": "markdown",
      "metadata": {
        "id": "UpCF3q1fdY5q"
      },
      "source": [
        "BÀI 2:\n"
      ]
    },
    {
      "cell_type": "code",
      "metadata": {
        "colab": {
          "base_uri": "https://localhost:8080/"
        },
        "id": "2jwSy0m4bih4",
        "outputId": "f47d6b24-9d32-4663-e191-415583e1f5b2"
      },
      "source": [
        "alkaline_metals = []\n",
        "for line in open('/content/sample_data/alkaline_metals.txt'):\n",
        "    alkaline_metals.append(line.strip().split(' '))\n",
        "print(alkaline_metals)"
      ],
      "execution_count": 4,
      "outputs": [
        {
          "output_type": "stream",
          "name": "stdout",
          "text": [
            "[['beryllium', '4', '9.012'], ['magnesium', '12', '24.305'], ['calcium', '20', '20.078'], ['strontium', '38', '87.62'], ['barium', '56', '137.327'], ['radium', '88', '226']]\n"
          ]
        }
      ]
    },
    {
      "cell_type": "markdown",
      "metadata": {
        "id": "TrkMUnISddzy"
      },
      "source": [
        "BÀI 3:"
      ]
    },
    {
      "cell_type": "code",
      "metadata": {
        "colab": {
          "base_uri": "https://localhost:8080/"
        },
        "id": "gO-amAWTdctU",
        "outputId": "83fd1b03-08d8-48fc-d8f3-1f288f2eb0c4"
      },
      "source": [
        "content = []\n",
        "for line in open('/content/sample_data/ngocduy.txt'):\n",
        "    content.append(line)\n",
        "print('Doc nguoc file :\\n ',)\n",
        "for line in reversed(content):\n",
        "    print(line)"
      ],
      "execution_count": 5,
      "outputs": [
        {
          "output_type": "stream",
          "name": "stdout",
          "text": [
            "Doc nguoc file :\n",
            " \n",
            "7\n",
            "9\n",
            "\n",
            "7\n",
            "\n",
            "8\n",
            "\n",
            "-\n",
            "\n",
            "9\n",
            "\n",
            "Bang diem: \n",
            "\n",
            "Hoc CNTT - Truong dai hoc Van Lang\n",
            "\n",
            "21 tuoi\n",
            "\n",
            "Go Vap - TPHCM\n",
            "\n",
            "Tran Nguyen Ngoc Duy - 187it20710\n",
            "\n",
            "Thong tin sinh vien:\n",
            "\n"
          ]
        }
      ]
    },
    {
      "cell_type": "markdown",
      "metadata": {
        "id": "LwbZkfEkdoqC"
      },
      "source": [
        "BÀI 4:"
      ]
    },
    {
      "cell_type": "code",
      "metadata": {
        "colab": {
          "base_uri": "https://localhost:8080/"
        },
        "id": "ohykGDN5dl2j",
        "outputId": "8b06b85a-7bef-43ba-a8d3-d6c5097b1633"
      },
      "source": [
        "def skip_header(reader):\n",
        "    \n",
        "    line = reader.readline()    \n",
        "    line = reader.readline()\n",
        "    while line.startswith('#'):\n",
        "        line = reader.readline() \n",
        "    return line\n",
        "\n",
        "def process_file(reader):\n",
        "    line = skip_header(reader).strip()\n",
        "    print(line)\n",
        "    for line in reader:\n",
        "        line = line.strip()\n",
        "        print(line)\n",
        "\n",
        "input_file = open('/content/sample_data/ngocduy.txt', 'r')\n",
        "process_file(input_file)\n",
        "input_file.close()"
      ],
      "execution_count": 6,
      "outputs": [
        {
          "output_type": "stream",
          "name": "stdout",
          "text": [
            "Tran Nguyen Ngoc Duy - 187it20710\n",
            "Go Vap - TPHCM\n",
            "21 tuoi\n",
            "Hoc CNTT - Truong dai hoc Van Lang\n",
            "Bang diem:\n",
            "9\n",
            "-\n",
            "8\n",
            "7\n",
            "9\n",
            "7\n"
          ]
        }
      ]
    },
    {
      "cell_type": "markdown",
      "metadata": {
        "id": "2cwudJYHd2gL"
      },
      "source": [
        "BÀI 5:"
      ]
    },
    {
      "cell_type": "code",
      "metadata": {
        "colab": {
          "base_uri": "https://localhost:8080/"
        },
        "id": "_VxkIsymc6Xi",
        "outputId": "53fd64cc-8cb9-45bc-df03-803cc753f18c"
      },
      "source": [
        "def smallest_value_skip(reader):\n",
        "    line = skip_header(reader).strip()\n",
        "    if line != '':\n",
        "        smallest = line\n",
        "    for line in reader:\n",
        "        line = line.strip()\n",
        "        if line != '-':\n",
        "            value = line\n",
        "            smallest = min(smallest, value)\n",
        "    return smallest\n",
        "\n",
        "input_file = open('/content/sample_data/ngocduy.txt', 'r')\n",
        "print(smallest_value_skip(input_file))\n",
        "input_file.close()"
      ],
      "execution_count": 7,
      "outputs": [
        {
          "output_type": "stream",
          "name": "stdout",
          "text": [
            "21 tuoi\n"
          ]
        }
      ]
    },
    {
      "cell_type": "markdown",
      "metadata": {
        "id": "momQQ7_geCI0"
      },
      "source": [
        "BÀI 6:"
      ]
    },
    {
      "cell_type": "code",
      "metadata": {
        "colab": {
          "base_uri": "https://localhost:8080/"
        },
        "id": "3QFlSkHCeBf4",
        "outputId": "347c5625-2c26-481f-9d80-d909190b5846"
      },
      "source": [
        "def smallest_value_skip2(reader):\n",
        "    line = skip_header(reader).strip()\n",
        "    smallest = line\n",
        "\n",
        "    for line in reader: \n",
        "        line = line.strip()\n",
        "        if line == '-':\n",
        "            continue\n",
        "\n",
        "    value = line\n",
        "    smallest = min(smallest, value)\n",
        "\n",
        "    return smallest\n",
        "\n",
        "input_file = open('/content/sample_data/ngocduy.txt', 'r')\n",
        "print(smallest_value_skip2(input_file))"
      ],
      "execution_count": 8,
      "outputs": [
        {
          "output_type": "stream",
          "name": "stdout",
          "text": [
            "7\n"
          ]
        }
      ]
    },
    {
      "cell_type": "markdown",
      "metadata": {
        "id": "q9ySfEpleRK9"
      },
      "source": [
        "BÀI 7:"
      ]
    },
    {
      "cell_type": "code",
      "metadata": {
        "colab": {
          "base_uri": "https://localhost:8080/"
        },
        "id": "94lk-kv-ePBd",
        "outputId": "69e9cdca-a4f8-4dc4-cdd9-5edb82c7b236"
      },
      "source": [
        "def read_molecule(reader):\n",
        "    content = []\n",
        "    for line in reader:\n",
        "        if not line.startswith('CMNT'):\n",
        "            if not line.isspace():\n",
        "                content.append(line.strip())\n",
        "    for line in content:\n",
        "        print(line)\n",
        "    \n",
        "input_file = open('/content/sample_data/ngocduy.txt', 'r')\n",
        "print(read_molecule(input_file))\n",
        "input_file.close()\n",
        "input_file.close()"
      ],
      "execution_count": 9,
      "outputs": [
        {
          "output_type": "stream",
          "name": "stdout",
          "text": [
            "Thong tin sinh vien:\n",
            "Tran Nguyen Ngoc Duy - 187it20710\n",
            "Go Vap - TPHCM\n",
            "21 tuoi\n",
            "Hoc CNTT - Truong dai hoc Van Lang\n",
            "Bang diem:\n",
            "9\n",
            "-\n",
            "8\n",
            "7\n",
            "9\n",
            "7\n",
            "None\n"
          ]
        }
      ]
    }
  ]
}