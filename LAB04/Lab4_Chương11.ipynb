{
  "nbformat": 4,
  "nbformat_minor": 0,
  "metadata": {
    "colab": {
      "name": "Lab4_Chương11.ipynb",
      "provenance": [],
      "authorship_tag": "ABX9TyNdIIDYYnxuDFM+XMZh3nTT",
      "include_colab_link": true
    },
    "kernelspec": {
      "name": "python3",
      "display_name": "Python 3"
    },
    "language_info": {
      "name": "python"
    }
  },
  "cells": [
    {
      "cell_type": "markdown",
      "metadata": {
        "id": "view-in-github",
        "colab_type": "text"
      },
      "source": [
        "<a href=\"https://colab.research.google.com/github/duy187it20710/laptrinhpythonnangcao/blob/main/LAB04/Lab4_Ch%C6%B0%C6%A1ng11.ipynb\" target=\"_parent\"><img src=\"https://colab.research.google.com/assets/colab-badge.svg\" alt=\"Open In Colab\"/></a>"
      ]
    },
    {
      "cell_type": "code",
      "metadata": {
        "colab": {
          "base_uri": "https://localhost:8080/"
        },
        "id": "yGK06KYod_hf",
        "outputId": "e26000d5-be64-448e-f341-308a705e2625"
      },
      "source": [
        "vowels = {'a', 'e', 'a', 'a', 'i', 'o', 'u', 'u'}\n",
        "print(vowels)"
      ],
      "execution_count": 1,
      "outputs": [
        {
          "output_type": "stream",
          "name": "stdout",
          "text": [
            "{'i', 'e', 'o', 'u', 'a'}\n"
          ]
        }
      ]
    },
    {
      "cell_type": "code",
      "metadata": {
        "id": "lY3nxJOKeZhr"
      },
      "source": [
        "def find_dups(L):\n",
        "  elem_set = set()\n",
        "  dups_set = set()\n",
        "  for entry in L:\n",
        "    len_initial = len(elem_set)\n",
        "    elem_set.add(entry)\n",
        "    len_after = len(elem_set)\n",
        "    if len_initial == len_after:\n",
        "      dups_set.add(entry)\n",
        "  return(dups_set)"
      ],
      "execution_count": 2,
      "outputs": []
    },
    {
      "cell_type": "code",
      "metadata": {
        "colab": {
          "base_uri": "https://localhost:8080/"
        },
        "id": "7kqaZLKpeZvR",
        "outputId": "9b2dd486-bfb5-493e-e225-0f75becf48bd"
      },
      "source": [
        "find_dups([4,5,6,1,8,2,4,89,1,6,4,5,1,8,2])"
      ],
      "execution_count": 3,
      "outputs": [
        {
          "output_type": "execute_result",
          "data": {
            "text/plain": [
              "{1, 2, 4, 5, 6, 8}"
            ]
          },
          "metadata": {},
          "execution_count": 3
        }
      ]
    },
    {
      "cell_type": "code",
      "metadata": {
        "id": "FMPMCeXBeZxo"
      },
      "source": [
        "def mating_pairs(males, females):\n",
        " \"\"\" (set, set) -> set of tuple\n",
        " Return a set of tuples where each tuple contains a male from males \n",
        "and a\n",
        " female from females.\n",
        " >>> mating_pairs({'Anne', 'Beatrice', 'Cari'}, {'Ali', 'Bob', \n",
        "'Chen'})\n",
        " {('Cari', 'Chen'), ('Beatrice', 'Bob'), ('Anne', 'Ali')}\n",
        " \"\"\"\n",
        " pairs = set()\n",
        " num_gerbils = len(males)\n",
        " for i in range(num_gerbils):\n",
        "  male = males.pop()\n",
        "  female = females.pop()\n",
        "  pairs.add((male, female))\n",
        " return pairs"
      ],
      "execution_count": 4,
      "outputs": []
    },
    {
      "cell_type": "code",
      "metadata": {
        "id": "gT5EvNaseZ5E"
      },
      "source": [
        "males = {'Anna','Jane','Sophia'}\n",
        "females = {'Bob','David','Tom'}\n",
        "def mating_couple(males,females):\n",
        "  couple = set()\n",
        "  for i in range(len(males)):\n",
        "    male = males.pop()\n",
        "    female = females.pop()\n",
        "    couple.add((male, female))\n",
        "  return couple"
      ],
      "execution_count": 5,
      "outputs": []
    },
    {
      "cell_type": "code",
      "metadata": {
        "colab": {
          "base_uri": "https://localhost:8080/"
        },
        "id": "U7udtzB0ephj",
        "outputId": "1a6d359a-b230-4035-a8f4-814675ae784d"
      },
      "source": [
        "mating_couple(males,females)"
      ],
      "execution_count": 6,
      "outputs": [
        {
          "output_type": "execute_result",
          "data": {
            "text/plain": [
              "{('Anna', 'Bob'), ('Jane', 'Tom'), ('Sophia', 'David')}"
            ]
          },
          "metadata": {},
          "execution_count": 6
        }
      ]
    },
    {
      "cell_type": "code",
      "metadata": {
        "id": "PANQB6Dueprx"
      },
      "source": [
        "def count_values(dic):\n",
        "  tontai = []\n",
        "  for key, value in dic.items():\n",
        "    tontai.append(value)\n",
        "  for key, value in dic.items():\n",
        "    count = 0\n",
        "    for i in tontai:\n",
        "      if i == value:\n",
        "        count = count + 1\n",
        "    if count == 1:\n",
        "      print(value)"
      ],
      "execution_count": 7,
      "outputs": []
    },
    {
      "cell_type": "code",
      "metadata": {
        "colab": {
          "base_uri": "https://localhost:8080/"
        },
        "id": "Wo3QiZUCepuD",
        "outputId": "a76813f4-216a-45b4-e47d-73ec4732b708"
      },
      "source": [
        "dic = {'red': 1, 'green': 1, 'blue': 2}\n",
        "count_values(dic)"
      ],
      "execution_count": 8,
      "outputs": [
        {
          "output_type": "stream",
          "name": "stdout",
          "text": [
            "2\n"
          ]
        }
      ]
    },
    {
      "cell_type": "code",
      "metadata": {
        "id": "Ye0mosQXepwN"
      },
      "source": [
        "def least(dic):\n",
        "  min = 999999999999999999999999999\n",
        "  for key, value in dic.items():\n",
        "    if value < min:\n",
        "      min = value\n",
        "      str1 = key\n",
        "    else:\n",
        "      continue\n",
        "  for key, value in dic.items():\n",
        "    if key == str1:\n",
        "      print(key)"
      ],
      "execution_count": 9,
      "outputs": []
    },
    {
      "cell_type": "code",
      "metadata": {
        "colab": {
          "base_uri": "https://localhost:8080/"
        },
        "id": "vA4VWIMrepy6",
        "outputId": "8ebf8724-f0f0-47fc-d87b-29076ee8fdfd"
      },
      "source": [
        "nguyentu = {'neutron': 0.55, 'proton': 0.21, 'meson': 0.03, 'muon': 0.07, 'neutrino': 0.80}\n",
        "least(nguyentu)"
      ],
      "execution_count": 16,
      "outputs": [
        {
          "output_type": "stream",
          "name": "stdout",
          "text": [
            "meson\n"
          ]
        }
      ]
    },
    {
      "cell_type": "code",
      "metadata": {
        "id": "aczuFFLUep2I"
      },
      "source": [
        "def count(dic):\n",
        "  count = []\n",
        "  for key, value in dic.items():\n",
        "    if value in count:\n",
        "      print(value)\n",
        "    else:\n",
        "      count.append(value)\n"
      ],
      "execution_count": 14,
      "outputs": []
    },
    {
      "cell_type": "code",
      "metadata": {
        "colab": {
          "base_uri": "https://localhost:8080/"
        },
        "id": "yGVkM9XHep5A",
        "outputId": "c6a9fc1f-fcc3-4799-de17-a659a0ee0d52"
      },
      "source": [
        "dic = {'red': 1, 'green': 1, 'blue': 2}\n",
        "count(dic)"
      ],
      "execution_count": 15,
      "outputs": [
        {
          "output_type": "stream",
          "name": "stdout",
          "text": [
            "1\n"
          ]
        }
      ]
    },
    {
      "cell_type": "code",
      "metadata": {
        "id": "aDBL8sovgHq4"
      },
      "source": [
        "def is_balanced(dic):\n",
        "  balanced=0\n",
        "  for key, value in dic.items():\n",
        "    balanced += value\n",
        "  if balanced == 1:\n",
        "    return True\n",
        "  else:\n",
        "    return False"
      ],
      "execution_count": 17,
      "outputs": []
    },
    {
      "cell_type": "code",
      "metadata": {
        "colab": {
          "base_uri": "https://localhost:8080/"
        },
        "id": "wUTD1PDkgH0S",
        "outputId": "03a20589-9047-41f0-a50b-b53fee56e541"
      },
      "source": [
        "color = {'R':0.3,'G':0.3,'B':0.2}\n",
        "is_balanced(color)"
      ],
      "execution_count": 18,
      "outputs": [
        {
          "output_type": "execute_result",
          "data": {
            "text/plain": [
              "False"
            ]
          },
          "metadata": {},
          "execution_count": 18
        }
      ]
    },
    {
      "cell_type": "code",
      "metadata": {
        "id": "fWmnO7MKgH3O"
      },
      "source": [
        "def dict_intersect(dic1,dic2):\n",
        "  dic3 = {}\n",
        "  for key, value in dic1.items():\n",
        "    for key1, value1 in dic2.items():\n",
        "      if ((key == key1) and (value ==value1)):\n",
        "        dic3[key] = value\n",
        "  return dic3"
      ],
      "execution_count": 19,
      "outputs": []
    },
    {
      "cell_type": "code",
      "metadata": {
        "colab": {
          "base_uri": "https://localhost:8080/"
        },
        "id": "83P94D3mgH5s",
        "outputId": "322ca2b1-a43a-4a16-a553-e1ff7c002d18"
      },
      "source": [
        "dic1 = {'red': 1, 'green': 1, 'blue': 2}\n",
        "dic2 = {'red': 1, 'green': 5, 'blue': 2, 'black': 4}\n",
        "dict_intersect(dic1,dic2)"
      ],
      "execution_count": 20,
      "outputs": [
        {
          "output_type": "execute_result",
          "data": {
            "text/plain": [
              "{'blue': 2, 'red': 1}"
            ]
          },
          "metadata": {},
          "execution_count": 20
        }
      ]
    },
    {
      "cell_type": "code",
      "metadata": {
        "id": "QOql0GfCgSlC"
      },
      "source": [
        "dic={'jgoodall' : {'surname' : 'Goodall',\n",
        "'forename' : 'Jane',\n",
        "'born' : 1934,\n",
        "'died' : None,\n",
        "'notes' : 'primate researcher',\n",
        "'author' : ['In the Shadow of Man',\n",
        "'The Chimpanzees of Gombe']},\n",
        "'rfranklin' : {'surname' : 'Franklin',\n",
        "'forename' : 'Rosalind',\n",
        "'born' : 1920,\n",
        "'died' : 1957,\n",
        "'notes' : 'contributed to discovery of DNA'},\n",
        "'rcarson' : {'surname' : 'Carson',\n",
        "'forename' : 'Rachel',\n",
        "'born' : 1907,\n",
        "'died' : 1964,\n",
        "'notes' : 'raised awareness of effects of DDT',\n",
        "'author' : ['Silent Spring']}\n",
        "}\n",
        "def db_headings(str1):\n",
        "  str1 = input('Nhập vào tên nhà khoa học muốn tìm: ')\n",
        "  idonnow = set()\n",
        "  for key,value in dic.items():\n",
        "    if (key == str1):\n",
        "      dic_temp = value\n",
        "  for key1, value1 in dic_temp.items():\n",
        "    idonnow.add(key1)\n",
        "  return idonnow\n",
        "  db_headings(name)"
      ],
      "execution_count": 53,
      "outputs": []
    },
    {
      "cell_type": "code",
      "metadata": {
        "id": "6ylTu6fggSnd"
      },
      "source": [
        "def test(dic):\n",
        "  set1 = db_headings(name)\n",
        "  set2 =db_headings(name)\n",
        "  if (set1 == set2):\n",
        "    return True\n",
        "  else:\n",
        "    return False\n",
        "    test(dic)"
      ],
      "execution_count": 52,
      "outputs": []
    }
  ]
}