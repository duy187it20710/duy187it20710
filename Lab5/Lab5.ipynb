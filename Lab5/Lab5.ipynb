{
  "nbformat": 4,
  "nbformat_minor": 0,
  "metadata": {
    "colab": {
      "name": "Lab5.ipynb",
      "provenance": [],
      "authorship_tag": "ABX9TyNAg0I4bpoTiERThIeyIQQW",
      "include_colab_link": true
    },
    "kernelspec": {
      "name": "python3",
      "display_name": "Python 3"
    },
    "language_info": {
      "name": "python"
    }
  },
  "cells": [
    {
      "cell_type": "markdown",
      "metadata": {
        "id": "view-in-github",
        "colab_type": "text"
      },
      "source": [
        "<a href=\"https://colab.research.google.com/github/duy187it20710/laptrinhpythonnangcao/blob/main/Lab5/Lab5.ipynb\" target=\"_parent\"><img src=\"https://colab.research.google.com/assets/colab-badge.svg\" alt=\"Open In Colab\"/></a>"
      ]
    },
    {
      "cell_type": "markdown",
      "metadata": {
        "id": "1R3MvnP43xHX"
      },
      "source": [
        "CÂU 1:"
      ]
    },
    {
      "cell_type": "code",
      "metadata": {
        "id": "8Gb1xDU71XrW"
      },
      "source": [
        "class Country:\n",
        "  def __init__(self, name: str, population: int, area:float):\n",
        "    self.name = name\n",
        "    self.population = population\n",
        "    self.area = area\n",
        "  def is_larger(self, other):\n",
        "    if (self.area > other.area):\n",
        "      return True\n",
        "    else:\n",
        "      return False\n",
        "  def population_destiny(self):\n",
        "    return self.population/self.area\n",
        "  def __str__ (self):\n",
        "    return ('{} has a population of {} and is {} sqare km'.format(self.name, self.population, self.area))\n",
        "  def __repr__(self):\n",
        "    return (\"Country('{0}', {1}, {2})\".format(self.name, self.population, self.area))\n",
        "usa = Country('United States of America', 313914040, 9826675)\n",
        "canada = Country(\"Cananda\", 34482779, 9984670)\n",
        "mexico = Country('Mexico', 112336538, 1943950)"
      ],
      "execution_count": 1,
      "outputs": []
    },
    {
      "cell_type": "code",
      "metadata": {
        "colab": {
          "base_uri": "https://localhost:8080/"
        },
        "id": "mD3tLHRs1-Ag",
        "outputId": "cef4ccc1-4946-47f8-c6e9-d0784664cf83"
      },
      "source": [
        "print(canada.name)\n",
        "print(canada.population)\n",
        "print(canada.area)"
      ],
      "execution_count": 2,
      "outputs": [
        {
          "output_type": "stream",
          "name": "stdout",
          "text": [
            "Cananda\n",
            "34482779\n",
            "9984670\n"
          ]
        }
      ]
    },
    {
      "cell_type": "code",
      "metadata": {
        "id": "8DrFo45V1-XI"
      },
      "source": [
        "print(canada.is_larger(usa))\n",
        "print(usa.is_larger(canada))"
      ],
      "execution_count": null,
      "outputs": []
    },
    {
      "cell_type": "code",
      "metadata": {
        "id": "b1j7CGOt3EpX"
      },
      "source": [
        "print(canada.population_destiny())\n"
      ],
      "execution_count": null,
      "outputs": []
    },
    {
      "cell_type": "code",
      "metadata": {
        "id": "lgnOLSpR3Ewb"
      },
      "source": [
        "usa = Country('United States of America', 313914040, 9826675)\n",
        "print(usa)"
      ],
      "execution_count": null,
      "outputs": []
    },
    {
      "cell_type": "code",
      "metadata": {
        "id": "KtKo-6Mf3E0Q"
      },
      "source": [
        "canada = Country('Canada', 34482779, 9984670)\n",
        "print(canada)\n",
        "print([canada])"
      ],
      "execution_count": null,
      "outputs": []
    },
    {
      "cell_type": "markdown",
      "metadata": {
        "id": "9l-F17gi3wTc"
      },
      "source": [
        "CÂU 2:\n"
      ]
    },
    {
      "cell_type": "code",
      "metadata": {
        "colab": {
          "base_uri": "https://localhost:8080/"
        },
        "id": "6ay2V-mc4Jly",
        "outputId": "5bf08e14-99cd-4f97-e311-57cbf935bf82"
      },
      "source": [
        "class Continent(Country):\n",
        "    def __init__(self,name, countries):\n",
        "      self.name = name\n",
        "      self.countries = countries\n",
        "    def total_population(self):\n",
        "      total = 0\n",
        "      for country in north_america.countries:\n",
        "        total += country.population\n",
        "      return total\n",
        "    def america(self):\n",
        "      num = 0\n",
        "      for country in north_america.countries:\n",
        "        num += 1\n",
        "        print(country)\n",
        "      return ''\n",
        "mexico = Country('Mexico', 112336538, 1943950)\n",
        "countries = [canada, usa, mexico]\n",
        "north_america = Continent('North America', countries)\n",
        "print(mexico)\n",
        "print(north_america.name)\n",
        "print('-----------------')\n",
        "print(north_america.total_population())\n",
        "print('-----------------')\n",
        "print(north_america.america())"
      ],
      "execution_count": 4,
      "outputs": [
        {
          "output_type": "stream",
          "name": "stdout",
          "text": [
            "Mexico has a population of 112336538 and is 1943950 sqare km\n",
            "North America\n",
            "-----------------\n",
            "460733357\n",
            "-----------------\n",
            "Cananda has a population of 34482779 and is 9984670 sqare km\n",
            "United States of America has a population of 313914040 and is 9826675 sqare km\n",
            "Mexico has a population of 112336538 and is 1943950 sqare km\n",
            "\n"
          ]
        }
      ]
    },
    {
      "cell_type": "markdown",
      "metadata": {
        "id": "nLHcByI54q1V"
      },
      "source": [
        "CÂU 3:"
      ]
    },
    {
      "cell_type": "code",
      "metadata": {
        "colab": {
          "base_uri": "https://localhost:8080/"
        },
        "id": "Rehm4LDY4tIM",
        "outputId": "eff28e8b-5d96-425a-f42e-cfb42acafc6e"
      },
      "source": [
        "class Student:\n",
        "  def __init__(self, name:str, number: str, course:str, mail:str):\n",
        "    self.name = name\n",
        "    self.number = number\n",
        "    self.course = course\n",
        "    self.mail = mail\n",
        "  def __str__(self):\n",
        "    return ('{}\\n{}\\n{}\\n{} '.format(self.name, self.number, self.course, self.mail))\n",
        "student1 = Student('ngocduy', '187it20710', '2K', 'Tnnd280720001@gmail.com' )\n",
        "print(student1)"
      ],
      "execution_count": 11,
      "outputs": [
        {
          "output_type": "stream",
          "name": "stdout",
          "text": [
            "ngocduy\n",
            "187it20710\n",
            "2K\n",
            "Tnnd280720001@gmail.com \n"
          ]
        }
      ]
    },
    {
      "cell_type": "code",
      "metadata": {
        "colab": {
          "base_uri": "https://localhost:8080/"
        },
        "id": "56vizPPy7NeI",
        "outputId": "763b44a6-c16c-4a5c-af67-5d6c61c05ba4"
      },
      "source": [
        "student1.courses_taken = [\"Python\",\"OOP\"]\n",
        "print(student1)"
      ],
      "execution_count": 12,
      "outputs": [
        {
          "output_type": "stream",
          "name": "stdout",
          "text": [
            "ngocduy\n",
            "187it20710\n",
            "2K\n",
            "Tnnd280720001@gmail.com \n"
          ]
        }
      ]
    },
    {
      "cell_type": "code",
      "metadata": {
        "colab": {
          "base_uri": "https://localhost:8080/"
        },
        "id": "asDlrttU7Nh5",
        "outputId": "97eb8702-2317-4986-eb12-86a8b553e03e"
      },
      "source": [
        "student1.courses_taking = [\"Advanced python programming\"]\n",
        "print(student1)"
      ],
      "execution_count": 13,
      "outputs": [
        {
          "output_type": "stream",
          "name": "stdout",
          "text": [
            "ngocduy\n",
            "187it20710\n",
            "2K\n",
            "Tnnd280720001@gmail.com \n"
          ]
        }
      ]
    }
  ]
}