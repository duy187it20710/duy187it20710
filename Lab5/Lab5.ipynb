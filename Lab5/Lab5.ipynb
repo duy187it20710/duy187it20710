{
  "nbformat": 4,
  "nbformat_minor": 0,
  "metadata": {
    "colab": {
      "name": "Lab5.ipynb",
      "provenance": [],
      "authorship_tag": "ABX9TyOdLY98sWWy4Ih5Q0IMhVhg",
      "include_colab_link": true
    },
    "kernelspec": {
      "name": "python3",
      "display_name": "Python 3"
    },
    "language_info": {
      "name": "python"
    }
  },
  "cells": [
    {
      "cell_type": "markdown",
      "metadata": {
        "id": "view-in-github",
        "colab_type": "text"
      },
      "source": [
        "<a href=\"https://colab.research.google.com/github/duy187it20710/laptrinhpythonnangcao/blob/main/Lab5/Lab5.ipynb\" target=\"_parent\"><img src=\"https://colab.research.google.com/assets/colab-badge.svg\" alt=\"Open In Colab\"/></a>"
      ]
    },
    {
      "cell_type": "markdown",
      "metadata": {
        "id": "1R3MvnP43xHX"
      },
      "source": [
        "CÂU 1:"
      ]
    },
    {
      "cell_type": "code",
      "metadata": {
        "id": "8Gb1xDU71XrW"
      },
      "source": [
        "class Country:\n",
        "  def __init__(self, name: str, population: int, area:float):\n",
        "    self.name = name\n",
        "    self.population = population\n",
        "    self.area = area\n",
        "  def is_larger(self, other):\n",
        "    if (self.area > other.area):\n",
        "      return True\n",
        "    else:\n",
        "      return False\n",
        "  def population_destiny(self):\n",
        "    return self.population/self.area\n",
        "  def __str__ (self):\n",
        "    return ('{} has a population of {} and is {} sqare km'.format(self.name, self.population, self.area))\n",
        "  def __repr__(self):\n",
        "    return (\"Country('{0}', {1}, {2})\".format(self.name, self.population, self.area))\n",
        "usa = Country('United States of America', 313914040, 9826675)\n",
        "canada = Country(\"Cananda\", 34482779, 9984670)\n",
        "mexico = Country('Mexico', 112336538, 1943950)"
      ],
      "execution_count": null,
      "outputs": []
    },
    {
      "cell_type": "code",
      "metadata": {
        "colab": {
          "base_uri": "https://localhost:8080/"
        },
        "id": "mD3tLHRs1-Ag",
        "outputId": "a738b1fa-b2dc-4ef7-a6b3-efd7fa111d3f"
      },
      "source": [
        "print(canada.name)\n",
        "print(canada.population)\n",
        "print(canada.area)"
      ],
      "execution_count": null,
      "outputs": [
        {
          "output_type": "stream",
          "name": "stdout",
          "text": [
            "Cananda\n",
            "34482779\n",
            "9984670\n"
          ]
        }
      ]
    },
    {
      "cell_type": "code",
      "metadata": {
        "id": "8DrFo45V1-XI",
        "colab": {
          "base_uri": "https://localhost:8080/"
        },
        "outputId": "6e991601-f395-4644-a077-368538ce96d8"
      },
      "source": [
        "print(canada.is_larger(usa))\n",
        "print(usa.is_larger(canada))"
      ],
      "execution_count": null,
      "outputs": [
        {
          "output_type": "stream",
          "name": "stdout",
          "text": [
            "True\n",
            "False\n"
          ]
        }
      ]
    },
    {
      "cell_type": "code",
      "metadata": {
        "id": "b1j7CGOt3EpX",
        "colab": {
          "base_uri": "https://localhost:8080/"
        },
        "outputId": "360a70fa-9460-4198-f961-974cfc3d4a82"
      },
      "source": [
        "print(canada.population_destiny())\n"
      ],
      "execution_count": null,
      "outputs": [
        {
          "output_type": "stream",
          "name": "stdout",
          "text": [
            "3.4535722262227995\n"
          ]
        }
      ]
    },
    {
      "cell_type": "code",
      "metadata": {
        "id": "lgnOLSpR3Ewb",
        "colab": {
          "base_uri": "https://localhost:8080/"
        },
        "outputId": "9d86fbe6-0208-48de-90c4-7ab5b95c0a42"
      },
      "source": [
        "usa = Country('United States of America', 313914040, 9826675)\n",
        "print(usa)"
      ],
      "execution_count": null,
      "outputs": [
        {
          "output_type": "stream",
          "name": "stdout",
          "text": [
            "United States of America has a population of 313914040 and is 9826675 sqare km\n"
          ]
        }
      ]
    },
    {
      "cell_type": "code",
      "metadata": {
        "id": "CP6B4xYR9bqa",
        "colab": {
          "base_uri": "https://localhost:8080/"
        },
        "outputId": "b7d2009b-e926-4148-9773-e77c6f39bba5"
      },
      "source": [
        "canada = Country('Canada', 34482779, 9984670)\n",
        "print(canada)\n",
        "print([canada])"
      ],
      "execution_count": null,
      "outputs": [
        {
          "output_type": "stream",
          "name": "stdout",
          "text": [
            "Canada has a population of 34482779 and is 9984670 sqare km\n",
            "[Country('Canada', 34482779, 9984670)]\n"
          ]
        }
      ]
    },
    {
      "cell_type": "markdown",
      "metadata": {
        "id": "9l-F17gi3wTc"
      },
      "source": [
        "CÂU 2:\n"
      ]
    },
    {
      "cell_type": "code",
      "metadata": {
        "colab": {
          "base_uri": "https://localhost:8080/"
        },
        "id": "6ay2V-mc4Jly",
        "outputId": "5286caca-f4c3-4cf3-a377-beb11d14284b"
      },
      "source": [
        "class Continent(Country):\n",
        "    def __init__(self,name, countries):\n",
        "      self.name = name\n",
        "      self.countries = countries\n",
        "    def total_population(self):\n",
        "      total = 0\n",
        "      for country in north_america.countries:\n",
        "        total += country.population\n",
        "      return total\n",
        "    def america(self):\n",
        "      num = 0\n",
        "      for country in north_america.countries:\n",
        "        num += 1\n",
        "        print(country)\n",
        "      return ''\n",
        "mexico = Country('Mexico', 112336538, 1943950)\n",
        "countries = [canada, usa, mexico]\n",
        "north_america = Continent('North America', countries)\n",
        "print(mexico)\n",
        "print(north_america.name)\n",
        "print('-----------------')\n",
        "print(north_america.total_population())\n",
        "print('-----------------')\n",
        "print(north_america.america())"
      ],
      "execution_count": null,
      "outputs": [
        {
          "output_type": "stream",
          "name": "stdout",
          "text": [
            "Mexico has a population of 112336538 and is 1943950 sqare km\n",
            "North America\n",
            "-----------------\n",
            "460733357\n",
            "-----------------\n",
            "Canada has a population of 34482779 and is 9984670 sqare km\n",
            "United States of America has a population of 313914040 and is 9826675 sqare km\n",
            "Mexico has a population of 112336538 and is 1943950 sqare km\n",
            "\n"
          ]
        }
      ]
    },
    {
      "cell_type": "markdown",
      "metadata": {
        "id": "nLHcByI54q1V"
      },
      "source": [
        "CÂU 3:"
      ]
    },
    {
      "cell_type": "code",
      "metadata": {
        "colab": {
          "base_uri": "https://localhost:8080/"
        },
        "id": "Rehm4LDY4tIM",
        "outputId": "b0a8ef53-e7a8-4044-b575-d19e29f69b08"
      },
      "source": [
        "class Student:\n",
        "  def __init__(self, name:str, number: str, course:str, mail:str):\n",
        "    self.name = name\n",
        "    self.number = number\n",
        "    self.course = course\n",
        "    self.mail = mail\n",
        "  def __str__(self):\n",
        "    return ('{}\\n{}\\n{}\\n{} '.format(self.name, self.number, self.course, self.mail))\n",
        "student1 = Student('ngocduy', '187it20710', '2K', 'Tnnd280720001@gmail.com' )\n",
        "print(student1)"
      ],
      "execution_count": null,
      "outputs": [
        {
          "output_type": "stream",
          "name": "stdout",
          "text": [
            "ngocduy\n",
            "187it20710\n",
            "2K\n",
            "Tnnd280720001@gmail.com \n"
          ]
        }
      ]
    },
    {
      "cell_type": "code",
      "metadata": {
        "colab": {
          "base_uri": "https://localhost:8080/"
        },
        "id": "56vizPPy7NeI",
        "outputId": "19263273-f729-4ad2-be85-2401ef4de186"
      },
      "source": [
        "student1.courses_taken = [\"Python\",\"OOP\"]\n",
        "print(student1)"
      ],
      "execution_count": null,
      "outputs": [
        {
          "output_type": "stream",
          "name": "stdout",
          "text": [
            "ngocduy\n",
            "187it20710\n",
            "2K\n",
            "Tnnd280720001@gmail.com \n"
          ]
        }
      ]
    },
    {
      "cell_type": "code",
      "metadata": {
        "colab": {
          "base_uri": "https://localhost:8080/"
        },
        "id": "asDlrttU7Nh5",
        "outputId": "97eb8702-2317-4986-eb12-86a8b553e03e"
      },
      "source": [
        "student1.courses_taking = [\"Advanced python programming\"]\n",
        "print(student1)"
      ],
      "execution_count": null,
      "outputs": [
        {
          "output_type": "stream",
          "name": "stdout",
          "text": [
            "ngocduy\n",
            "187it20710\n",
            "2K\n",
            "Tnnd280720001@gmail.com \n"
          ]
        }
      ]
    },
    {
      "cell_type": "markdown",
      "metadata": {
        "id": "155Oua1RCuRb"
      },
      "source": [
        "CÂU 4\n"
      ]
    },
    {
      "cell_type": "code",
      "metadata": {
        "colab": {
          "base_uri": "https://localhost:8080/"
        },
        "id": "iKu-9z1OCrVr",
        "outputId": "2d5ded99-d000-40fb-8ff1-5d01f1cbaabe"
      },
      "source": [
        "class Nematode:\n",
        "    def __init__(self,name: str,height: float, sex: str,age: int) -> None:\n",
        "        self.name = name\n",
        "        self.height = height\n",
        "        self.sex = sex\n",
        "        self.age = age\n",
        "    def __str__(self):\n",
        "        return \"C. elegans: \\nName : {} \\nHeight : {}\\nGender : {}\\nAge :{}\".format(self.name,self.height,self.sex,self.age)\n",
        "    def __repr__(self):\n",
        "        return \"{0}({1},{2},{3},{4})\".format(self.__class__.__name__,self.name,self.height,self.sex,self.age)\n",
        "Robin = Nematode('Robin',1.12,'Male',12)\n",
        "print(Robin)"
      ],
      "execution_count": 5,
      "outputs": [
        {
          "output_type": "stream",
          "name": "stdout",
          "text": [
            "C. elegans: \n",
            "Name : Robin \n",
            "Height : 1.12\n",
            "Gender : Male\n",
            "Age :12\n"
          ]
        }
      ]
    },
    {
      "cell_type": "markdown",
      "metadata": {
        "id": "Pnq0EEZhDnSM"
      },
      "source": [
        "CÂU 5\n"
      ]
    },
    {
      "cell_type": "code",
      "metadata": {
        "id": "aTQ7NsyRDo62"
      },
      "source": [
        "import math\n",
        "\n",
        "class Point:\n",
        "\n",
        "    def __init__(self,parameter1,parameters2):\n",
        "        self.parameter1 = parameter1\n",
        "        self.parameter2 = parameter2\n",
        "class LineSegment:\n",
        "    def __init__(self,segmentStart: Point,segmentEnd: Point):\n",
        "        self.segmentStart = segmentStart\n",
        "        self.segmentEnd = segmentEnd\n",
        "    def slope(self):\n",
        "        result = (self.segmentStart.parameter1 - self.segmentEnd.parameter1) / (self.segmentStart.parameter2 - self.segmentEnd.parameter2)\n",
        "        return result\n",
        "    def length(self):\n",
        "        distance = math.sqrt( pow((self.segmentStart.parameter1 - self.segmentEnd.parameter1),2) + pow((self.segmentStart.parameter2 - self.segmentEnd.parameter2),2 ))\n",
        "        return distance"
      ],
      "execution_count": 6,
      "outputs": []
    }
  ]
}