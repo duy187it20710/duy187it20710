{
  "nbformat": 4,
  "nbformat_minor": 0,
  "metadata": {
    "colab": {
      "name": "Lab1.ipynb",
      "provenance": [],
      "authorship_tag": "ABX9TyNxYBKrTHHh4XP1gQL5Y9kY",
      "include_colab_link": true
    },
    "kernelspec": {
      "name": "python3",
      "display_name": "Python 3"
    },
    "language_info": {
      "name": "python"
    }
  },
  "cells": [
    {
      "cell_type": "markdown",
      "metadata": {
        "id": "view-in-github",
        "colab_type": "text"
      },
      "source": [
        "<a href=\"https://colab.research.google.com/github/duy187it20710/duy187it20710/blob/main/Lab1.ipynb\" target=\"_parent\"><img src=\"https://colab.research.google.com/assets/colab-badge.svg\" alt=\"Open In Colab\"/></a>"
      ]
    },
    {
      "cell_type": "code",
      "metadata": {
        "id": "GFsLFG8yEaPV",
        "colab": {
          "base_uri": "https://localhost:8080/"
        },
        "outputId": "36c8d76b-de9d-4424-f902-2bbbfade71d9"
      },
      "source": [
        "min(2,3,4)"
      ],
      "execution_count": null,
      "outputs": [
        {
          "output_type": "execute_result",
          "data": {
            "text/plain": [
              "2"
            ]
          },
          "metadata": {},
          "execution_count": 2
        }
      ]
    },
    {
      "cell_type": "code",
      "metadata": {
        "colab": {
          "base_uri": "https://localhost:8080/"
        },
        "id": "0ybm9Uvjaza3",
        "outputId": "f3e8fab3-ab6c-4b7c-9188-2ac4ed90cd0a"
      },
      "source": [
        "max(2,-3,4,7,-5)"
      ],
      "execution_count": null,
      "outputs": [
        {
          "output_type": "execute_result",
          "data": {
            "text/plain": [
              "7"
            ]
          },
          "metadata": {},
          "execution_count": 3
        }
      ]
    },
    {
      "cell_type": "code",
      "metadata": {
        "colab": {
          "base_uri": "https://localhost:8080/"
        },
        "id": "BIG_GYmHbQ3I",
        "outputId": "69afdf2d-67d3-48fc-ae5a-2b58aa0af96a"
      },
      "source": [
        "max(2,-3,min(4,7),-5)"
      ],
      "execution_count": null,
      "outputs": [
        {
          "output_type": "execute_result",
          "data": {
            "text/plain": [
              "4"
            ]
          },
          "metadata": {},
          "execution_count": 4
        }
      ]
    },
    {
      "cell_type": "code",
      "metadata": {
        "colab": {
          "base_uri": "https://localhost:8080/"
        },
        "id": "SIYhhv6_bQ6H",
        "outputId": "85a87cb8-8155-489e-fbf5-8778a414bca7"
      },
      "source": [
        "min(max(3,4),abs(-5))"
      ],
      "execution_count": null,
      "outputs": [
        {
          "output_type": "execute_result",
          "data": {
            "text/plain": [
              "4"
            ]
          },
          "metadata": {},
          "execution_count": 5
        }
      ]
    },
    {
      "cell_type": "code",
      "metadata": {
        "colab": {
          "base_uri": "https://localhost:8080/"
        },
        "id": "pHl2kFgKbnn5",
        "outputId": "6edf2f88-ba7d-4477-fd21-61f94146a86c"
      },
      "source": [
        "abs(min(4,6,max(2,8)))"
      ],
      "execution_count": null,
      "outputs": [
        {
          "output_type": "execute_result",
          "data": {
            "text/plain": [
              "4"
            ]
          },
          "metadata": {},
          "execution_count": 6
        }
      ]
    },
    {
      "cell_type": "code",
      "metadata": {
        "colab": {
          "base_uri": "https://localhost:8080/"
        },
        "id": "88-TJMptbnqg",
        "outputId": "54ca12a9-c233-4606-9ac0-e74eb300a67d"
      },
      "source": [
        "round(max(5.572,3.258),abs(-2))"
      ],
      "execution_count": null,
      "outputs": [
        {
          "output_type": "execute_result",
          "data": {
            "text/plain": [
              "5.57"
            ]
          },
          "metadata": {},
          "execution_count": 7
        }
      ]
    },
    {
      "cell_type": "code",
      "metadata": {
        "colab": {
          "base_uri": "https://localhost:8080/"
        },
        "id": "oWw16cQQb5V0",
        "outputId": "415422d1-11aa-462b-c03e-2fb77e77f8e9"
      },
      "source": [
        "def triple(num):\n",
        "  return num * 3 \n",
        "triple(3)"
      ],
      "execution_count": null,
      "outputs": [
        {
          "output_type": "execute_result",
          "data": {
            "text/plain": [
              "9"
            ]
          },
          "metadata": {},
          "execution_count": 11
        }
      ]
    },
    {
      "cell_type": "code",
      "metadata": {
        "colab": {
          "base_uri": "https://localhost:8080/"
        },
        "id": "FlufDwE1b5nI",
        "outputId": "7ee79638-a0d6-46a6-872c-63400f00f178"
      },
      "source": [
        "def absolute_difference(number1, number2):\n",
        "  return abs(number1 - number2)\n",
        "absolute_difference(3, 7)  "
      ],
      "execution_count": null,
      "outputs": [
        {
          "output_type": "execute_result",
          "data": {
            "text/plain": [
              "4"
            ]
          },
          "metadata": {},
          "execution_count": 12
        }
      ]
    },
    {
      "cell_type": "code",
      "metadata": {
        "colab": {
          "base_uri": "https://localhost:8080/"
        },
        "id": "tDmyOaqEb5p0",
        "outputId": "ad7d13a6-0f39-405f-82b7-39109259a76d"
      },
      "source": [
        "def km_to_miles(km):\n",
        "  return km / 1.6\n",
        "km_to_miles(5)  "
      ],
      "execution_count": null,
      "outputs": [
        {
          "output_type": "execute_result",
          "data": {
            "text/plain": [
              "3.125"
            ]
          },
          "metadata": {},
          "execution_count": 13
        }
      ]
    },
    {
      "cell_type": "code",
      "metadata": {
        "colab": {
          "base_uri": "https://localhost:8080/"
        },
        "id": "YVDsVSDec_mf",
        "outputId": "f92692ca-af91-4357-a6d2-d0a087614a4b"
      },
      "source": [
        "def average_grade(grade1, grade2, grade3):\n",
        "  return (grade1 + grade2 + grade3) / 3\n",
        "average_grade(80, 95, 90)  "
      ],
      "execution_count": null,
      "outputs": [
        {
          "output_type": "execute_result",
          "data": {
            "text/plain": [
              "88.33333333333333"
            ]
          },
          "metadata": {},
          "execution_count": 14
        }
      ]
    },
    {
      "cell_type": "code",
      "metadata": {
        "colab": {
          "base_uri": "https://localhost:8080/"
        },
        "id": "o6n8nN1wdpi1",
        "outputId": "1363311e-4822-439e-91c0-f0e96525d049"
      },
      "source": [
        "def top_three_avg(grade1, grade2, grade3, grade4):\n",
        "  total = grade1 + grade2 + grade3 + grade4\n",
        "  top_three = total - min(grade1, grade2, grade3, grade4)\n",
        "  return top_three / 3\n",
        "  return max(average_grade(grade1, grade2, grade3),\n",
        "average_grade(1, grade2, grade4),\n",
        "average_grade(grade1, grade3, grade4),\n",
        "average_grade(grade2, grade3, grade4))\n",
        "  return (grade1 + grade2 + grade3) / 3\n",
        "top_three_avg(50, 60, 70, 80) "
      ],
      "execution_count": null,
      "outputs": [
        {
          "output_type": "execute_result",
          "data": {
            "text/plain": [
              "70.0"
            ]
          },
          "metadata": {},
          "execution_count": 18
        }
      ]
    },
    {
      "cell_type": "code",
      "metadata": {
        "id": "4w7ZLSjTe4A_"
      },
      "source": [
        "def weeks_space(a,b):\n",
        "  c = b - a\n",
        "  d = c // 7\n",
        "  return d\n"
      ],
      "execution_count": 4,
      "outputs": []
    },
    {
      "cell_type": "code",
      "metadata": {
        "id": "AfLOSotmdpmA",
        "outputId": "526f1459-d0c8-498e-b272-4c3aa169cf2f",
        "colab": {
          "base_uri": "https://localhost:8080/"
        }
      },
      "source": [
        "weeks_space(10,30)"
      ],
      "execution_count": 3,
      "outputs": [
        {
          "output_type": "execute_result",
          "data": {
            "text/plain": [
              "2"
            ]
          },
          "metadata": {},
          "execution_count": 3
        }
      ]
    },
    {
      "cell_type": "code",
      "metadata": {
        "id": "niN8xgBd3KY-"
      },
      "source": [
        "def square(num):\n",
        "  number = num ** 2\n",
        "  return number"
      ],
      "execution_count": 5,
      "outputs": []
    },
    {
      "cell_type": "code",
      "metadata": {
        "id": "flsOektW3L37",
        "outputId": "af5511c6-d258-4975-e024-b8ac19a2b8bb",
        "colab": {
          "base_uri": "https://localhost:8080/"
        }
      },
      "source": [
        "square(5)"
      ],
      "execution_count": 6,
      "outputs": [
        {
          "output_type": "execute_result",
          "data": {
            "text/plain": [
              "25"
            ]
          },
          "metadata": {},
          "execution_count": 6
        }
      ]
    },
    {
      "cell_type": "code",
      "metadata": {
        "id": "JEOGKMX33MDZ",
        "outputId": "8d01c7a9-4ba7-462f-8b7d-50e5f5e40114",
        "colab": {
          "base_uri": "https://localhost:8080/"
        }
      },
      "source": [
        "import math\n",
        "dir(math)"
      ],
      "execution_count": 7,
      "outputs": [
        {
          "output_type": "execute_result",
          "data": {
            "text/plain": [
              "['__doc__',\n",
              " '__loader__',\n",
              " '__name__',\n",
              " '__package__',\n",
              " '__spec__',\n",
              " 'acos',\n",
              " 'acosh',\n",
              " 'asin',\n",
              " 'asinh',\n",
              " 'atan',\n",
              " 'atan2',\n",
              " 'atanh',\n",
              " 'ceil',\n",
              " 'copysign',\n",
              " 'cos',\n",
              " 'cosh',\n",
              " 'degrees',\n",
              " 'e',\n",
              " 'erf',\n",
              " 'erfc',\n",
              " 'exp',\n",
              " 'expm1',\n",
              " 'fabs',\n",
              " 'factorial',\n",
              " 'floor',\n",
              " 'fmod',\n",
              " 'frexp',\n",
              " 'fsum',\n",
              " 'gamma',\n",
              " 'gcd',\n",
              " 'hypot',\n",
              " 'inf',\n",
              " 'isclose',\n",
              " 'isfinite',\n",
              " 'isinf',\n",
              " 'isnan',\n",
              " 'ldexp',\n",
              " 'lgamma',\n",
              " 'log',\n",
              " 'log10',\n",
              " 'log1p',\n",
              " 'log2',\n",
              " 'modf',\n",
              " 'nan',\n",
              " 'pi',\n",
              " 'pow',\n",
              " 'radians',\n",
              " 'remainder',\n",
              " 'sin',\n",
              " 'sinh',\n",
              " 'sqrt',\n",
              " 'tan',\n",
              " 'tanh',\n",
              " 'tau',\n",
              " 'trunc']"
            ]
          },
          "metadata": {},
          "execution_count": 7
        }
      ]
    },
    {
      "cell_type": "code",
      "metadata": {
        "id": "P90iLBZn3MNA",
        "outputId": "4785eb88-b0ba-4684-af24-959a0d49061f",
        "colab": {
          "base_uri": "https://localhost:8080/"
        }
      },
      "source": [
        "math.floor(-2.8)"
      ],
      "execution_count": 8,
      "outputs": [
        {
          "output_type": "execute_result",
          "data": {
            "text/plain": [
              "-3"
            ]
          },
          "metadata": {},
          "execution_count": 8
        }
      ]
    },
    {
      "cell_type": "code",
      "metadata": {
        "id": "Bu-Aaj0A3qlM",
        "outputId": "ea393c45-d87c-4e13-e678-f69de9add2bb",
        "colab": {
          "base_uri": "https://localhost:8080/"
        }
      },
      "source": [
        "abs(math.floor(-4.3))"
      ],
      "execution_count": 9,
      "outputs": [
        {
          "output_type": "execute_result",
          "data": {
            "text/plain": [
              "5"
            ]
          },
          "metadata": {},
          "execution_count": 9
        }
      ]
    },
    {
      "cell_type": "code",
      "metadata": {
        "id": "zzu71HdM3qv4",
        "outputId": "c12e13cf-36cd-4b80-8db7-1fc046340dd5",
        "colab": {
          "base_uri": "https://localhost:8080/"
        }
      },
      "source": [
        "math.sin(34.5)"
      ],
      "execution_count": 10,
      "outputs": [
        {
          "output_type": "execute_result",
          "data": {
            "text/plain": [
              "0.057487478104924564"
            ]
          },
          "metadata": {},
          "execution_count": 10
        }
      ]
    },
    {
      "cell_type": "code",
      "metadata": {
        "id": "xUnYLN3j3q3j",
        "outputId": "612dcfed-1206-490f-ce1c-fe9a9a91faec",
        "colab": {
          "base_uri": "https://localhost:8080/"
        }
      },
      "source": [
        "math.ceil(math.sin(34.5))"
      ],
      "execution_count": 12,
      "outputs": [
        {
          "output_type": "execute_result",
          "data": {
            "text/plain": [
              "1"
            ]
          },
          "metadata": {},
          "execution_count": 12
        }
      ]
    },
    {
      "cell_type": "code",
      "metadata": {
        "id": "bfqH846J3q6A",
        "outputId": "01b096b9-e2e8-44ce-ec1b-17df5fc44a2a",
        "colab": {
          "base_uri": "https://localhost:8080/"
        }
      },
      "source": [
        "help(math.ceil)"
      ],
      "execution_count": 13,
      "outputs": [
        {
          "output_type": "stream",
          "name": "stdout",
          "text": [
            "Help on built-in function ceil in module math:\n",
            "\n",
            "ceil(x, /)\n",
            "    Return the ceiling of x as an Integral.\n",
            "    \n",
            "    This is the smallest integer >= x.\n",
            "\n"
          ]
        }
      ]
    },
    {
      "cell_type": "code",
      "metadata": {
        "id": "isc16Oh03q8W",
        "outputId": "8103ed50-d574-4193-9f0f-3c2f8faab4ae",
        "colab": {
          "base_uri": "https://localhost:8080/"
        }
      },
      "source": [
        "math.ceil(4.264662656)"
      ],
      "execution_count": 14,
      "outputs": [
        {
          "output_type": "execute_result",
          "data": {
            "text/plain": [
              "5"
            ]
          },
          "metadata": {},
          "execution_count": 14
        }
      ]
    },
    {
      "cell_type": "code",
      "metadata": {
        "id": "cutq3yc03q-0"
      },
      "source": [
        "import calendar"
      ],
      "execution_count": 15,
      "outputs": []
    },
    {
      "cell_type": "code",
      "metadata": {
        "id": "S4ixYz7n4JE-",
        "outputId": "b60bd945-22b0-4f72-9a25-add10aa5f10e",
        "colab": {
          "base_uri": "https://localhost:8080/"
        }
      },
      "source": [
        "help(calendar.isleap)"
      ],
      "execution_count": 16,
      "outputs": [
        {
          "output_type": "stream",
          "name": "stdout",
          "text": [
            "Help on function isleap in module calendar:\n",
            "\n",
            "isleap(year)\n",
            "    Return True for leap years, False for non-leap years.\n",
            "\n"
          ]
        }
      ]
    },
    {
      "cell_type": "code",
      "metadata": {
        "id": "sjLBNxq94JTG",
        "outputId": "c49572eb-42a0-4c81-8970-ee4d3f311f4f",
        "colab": {
          "base_uri": "https://localhost:8080/"
        }
      },
      "source": [
        "calendar.isleap(2000)"
      ],
      "execution_count": 17,
      "outputs": [
        {
          "output_type": "execute_result",
          "data": {
            "text/plain": [
              "True"
            ]
          },
          "metadata": {},
          "execution_count": 17
        }
      ]
    },
    {
      "cell_type": "code",
      "metadata": {
        "id": "f0Ju_sh54JiU",
        "outputId": "fbdc7468-ac30-44c8-b1ef-4de740943eb5",
        "colab": {
          "base_uri": "https://localhost:8080/"
        }
      },
      "source": [
        "dir(calendar)"
      ],
      "execution_count": 18,
      "outputs": [
        {
          "output_type": "execute_result",
          "data": {
            "text/plain": [
              "['Calendar',\n",
              " 'EPOCH',\n",
              " 'FRIDAY',\n",
              " 'February',\n",
              " 'HTMLCalendar',\n",
              " 'IllegalMonthError',\n",
              " 'IllegalWeekdayError',\n",
              " 'January',\n",
              " 'LocaleHTMLCalendar',\n",
              " 'LocaleTextCalendar',\n",
              " 'MONDAY',\n",
              " 'SATURDAY',\n",
              " 'SUNDAY',\n",
              " 'THURSDAY',\n",
              " 'TUESDAY',\n",
              " 'TextCalendar',\n",
              " 'WEDNESDAY',\n",
              " '_EPOCH_ORD',\n",
              " '__all__',\n",
              " '__builtins__',\n",
              " '__cached__',\n",
              " '__doc__',\n",
              " '__file__',\n",
              " '__loader__',\n",
              " '__name__',\n",
              " '__package__',\n",
              " '__spec__',\n",
              " '_colwidth',\n",
              " '_locale',\n",
              " '_localized_day',\n",
              " '_localized_month',\n",
              " '_spacing',\n",
              " 'c',\n",
              " 'calendar',\n",
              " 'datetime',\n",
              " 'day_abbr',\n",
              " 'day_name',\n",
              " 'different_locale',\n",
              " 'error',\n",
              " 'firstweekday',\n",
              " 'format',\n",
              " 'formatstring',\n",
              " 'isleap',\n",
              " 'leapdays',\n",
              " 'main',\n",
              " 'mdays',\n",
              " 'month',\n",
              " 'month_abbr',\n",
              " 'month_name',\n",
              " 'monthcalendar',\n",
              " 'monthlen',\n",
              " 'monthrange',\n",
              " 'nextmonth',\n",
              " 'prcal',\n",
              " 'prevmonth',\n",
              " 'prmonth',\n",
              " 'prweek',\n",
              " 'repeat',\n",
              " 'setfirstweekday',\n",
              " 'sys',\n",
              " 'timegm',\n",
              " 'week',\n",
              " 'weekday',\n",
              " 'weekheader']"
            ]
          },
          "metadata": {},
          "execution_count": 18
        }
      ]
    },
    {
      "cell_type": "code",
      "metadata": {
        "id": "9dEaG9uW4JlL",
        "outputId": "4986052b-49f1-45ee-def6-f281d358ad68",
        "colab": {
          "base_uri": "https://localhost:8080/"
        }
      },
      "source": [
        "calendar.leapdays(2000, 2050)"
      ],
      "execution_count": 19,
      "outputs": [
        {
          "output_type": "execute_result",
          "data": {
            "text/plain": [
              "13"
            ]
          },
          "metadata": {},
          "execution_count": 19
        }
      ]
    },
    {
      "cell_type": "code",
      "metadata": {
        "id": "icVUEWtu4Jwb",
        "outputId": "a89226ff-4283-48a8-ec40-42b021e832e5",
        "colab": {
          "base_uri": "https://localhost:8080/"
        }
      },
      "source": [
        "calendar.weekday(2021, 9, 14)"
      ],
      "execution_count": 20,
      "outputs": [
        {
          "output_type": "execute_result",
          "data": {
            "text/plain": [
              "1"
            ]
          },
          "metadata": {},
          "execution_count": 20
        }
      ]
    },
    {
      "cell_type": "code",
      "metadata": {
        "id": "LXJdxmw74J3e",
        "outputId": "9992c7e7-802a-4b34-9142-ac0920f89334",
        "colab": {
          "base_uri": "https://localhost:8080/"
        }
      },
      "source": [
        "help(calendar.weekday)"
      ],
      "execution_count": 21,
      "outputs": [
        {
          "output_type": "stream",
          "name": "stdout",
          "text": [
            "Help on function weekday in module calendar:\n",
            "\n",
            "weekday(year, month, day)\n",
            "    Return weekday (0-6 ~ Mon-Sun) for year, month (1-12), day (1-31).\n",
            "\n"
          ]
        }
      ]
    },
    {
      "cell_type": "code",
      "metadata": {
        "id": "s0CooVcy4KD-"
      },
      "source": [
        "def average(num1: float, num2: float) :\n",
        "  return (num1 + num2) / 2"
      ],
      "execution_count": 24,
      "outputs": []
    },
    {
      "cell_type": "code",
      "metadata": {
        "id": "0FfBZgvi4bWT",
        "outputId": "815c750e-7896-468a-8d16-3967fbbab96f",
        "colab": {
          "base_uri": "https://localhost:8080/",
          "height": 35
        }
      },
      "source": [
        "'hello'.upper()"
      ],
      "execution_count": 25,
      "outputs": [
        {
          "output_type": "execute_result",
          "data": {
            "application/vnd.google.colaboratory.intrinsic+json": {
              "type": "string"
            },
            "text/plain": [
              "'HELLO'"
            ]
          },
          "metadata": {},
          "execution_count": 25
        }
      ]
    },
    {
      "cell_type": "code",
      "metadata": {
        "id": "VX5j7EDL4baI",
        "outputId": "74024cda-dda1-4411-f688-9ab9a3b9f3f7",
        "colab": {
          "base_uri": "https://localhost:8080/",
          "height": 35
        }
      },
      "source": [
        "'Happy Birthday!'.lower()"
      ],
      "execution_count": 26,
      "outputs": [
        {
          "output_type": "execute_result",
          "data": {
            "application/vnd.google.colaboratory.intrinsic+json": {
              "type": "string"
            },
            "text/plain": [
              "'happy birthday!'"
            ]
          },
          "metadata": {},
          "execution_count": 26
        }
      ]
    },
    {
      "cell_type": "code",
      "metadata": {
        "id": "MTUxGLLn4bdk",
        "outputId": "a5748167-bb58-4d53-a89d-f011b7379640",
        "colab": {
          "base_uri": "https://localhost:8080/",
          "height": 35
        }
      },
      "source": [
        "'WeeeEEEEeeeEEEEeee'.swapcase()"
      ],
      "execution_count": 27,
      "outputs": [
        {
          "output_type": "execute_result",
          "data": {
            "application/vnd.google.colaboratory.intrinsic+json": {
              "type": "string"
            },
            "text/plain": [
              "'wEEEeeeeEEEeeeeEEE'"
            ]
          },
          "metadata": {},
          "execution_count": 27
        }
      ]
    },
    {
      "cell_type": "code",
      "metadata": {
        "id": "zRfLA29x4bg6",
        "outputId": "fb47281c-3f4e-45a1-dc88-52258ef9c75d",
        "colab": {
          "base_uri": "https://localhost:8080/"
        }
      },
      "source": [
        "'ABC123'.isupper()"
      ],
      "execution_count": 28,
      "outputs": [
        {
          "output_type": "execute_result",
          "data": {
            "text/plain": [
              "True"
            ]
          },
          "metadata": {},
          "execution_count": 28
        }
      ]
    },
    {
      "cell_type": "code",
      "metadata": {
        "id": "L2QX_Jj24bj9",
        "outputId": "588b5780-a17c-4753-ce27-5334f248f5a3",
        "colab": {
          "base_uri": "https://localhost:8080/"
        }
      },
      "source": [
        "'aeiouAEIOU'.count('a')"
      ],
      "execution_count": 29,
      "outputs": [
        {
          "output_type": "execute_result",
          "data": {
            "text/plain": [
              "1"
            ]
          },
          "metadata": {},
          "execution_count": 29
        }
      ]
    },
    {
      "cell_type": "code",
      "metadata": {
        "id": "xE0zgmkQ4bm0",
        "outputId": "59b27589-1d65-4155-ec4c-4a5bada565d5",
        "colab": {
          "base_uri": "https://localhost:8080/"
        }
      },
      "source": [
        "'hello'.endswith('o')"
      ],
      "execution_count": 30,
      "outputs": [
        {
          "output_type": "execute_result",
          "data": {
            "text/plain": [
              "True"
            ]
          },
          "metadata": {},
          "execution_count": 30
        }
      ]
    },
    {
      "cell_type": "code",
      "metadata": {
        "id": "c-kfSBvx4bps",
        "outputId": "57cd1772-5b7a-48e5-9c5b-26178ac7fa23",
        "colab": {
          "base_uri": "https://localhost:8080/"
        }
      },
      "source": [
        "'hello'.startswith('H')"
      ],
      "execution_count": 31,
      "outputs": [
        {
          "output_type": "execute_result",
          "data": {
            "text/plain": [
              "False"
            ]
          },
          "metadata": {},
          "execution_count": 31
        }
      ]
    },
    {
      "cell_type": "code",
      "metadata": {
        "id": "Bp60K3lu4bto",
        "outputId": "69558030-aebf-4fb5-d726-760d03137457",
        "colab": {
          "base_uri": "https://localhost:8080/"
        }
      },
      "source": [
        "'helHlo'.startswith('H')"
      ],
      "execution_count": 32,
      "outputs": [
        {
          "output_type": "execute_result",
          "data": {
            "text/plain": [
              "False"
            ]
          },
          "metadata": {},
          "execution_count": 32
        }
      ]
    },
    {
      "cell_type": "code",
      "metadata": {
        "id": "Y1KQxUrk4bwi",
        "outputId": "1fa7305c-859e-4363-9635-e510f0bf141e",
        "colab": {
          "base_uri": "https://localhost:8080/",
          "height": 35
        }
      },
      "source": [
        "'Hello {0}'.format('Python')"
      ],
      "execution_count": 33,
      "outputs": [
        {
          "output_type": "execute_result",
          "data": {
            "application/vnd.google.colaboratory.intrinsic+json": {
              "type": "string"
            },
            "text/plain": [
              "'Hello Python'"
            ]
          },
          "metadata": {},
          "execution_count": 33
        }
      ]
    },
    {
      "cell_type": "code",
      "metadata": {
        "id": "7KjgGwTq4udz",
        "outputId": "60eb2272-491f-4d9e-f94f-6993287d8850",
        "colab": {
          "base_uri": "https://localhost:8080/"
        }
      },
      "source": [
        "help(format)"
      ],
      "execution_count": 34,
      "outputs": [
        {
          "output_type": "stream",
          "name": "stdout",
          "text": [
            "Help on built-in function format in module builtins:\n",
            "\n",
            "format(value, format_spec='', /)\n",
            "    Return value.__format__(format_spec)\n",
            "    \n",
            "    format_spec defaults to the empty string.\n",
            "    See the Format Specification Mini-Language section of help('FORMATTING') for\n",
            "    details.\n",
            "\n"
          ]
        }
      ]
    },
    {
      "cell_type": "code",
      "metadata": {
        "id": "2bzknkgQ4uo8",
        "outputId": "53f0684d-a8b7-4025-e9bd-020d47416a23",
        "colab": {
          "base_uri": "https://localhost:8080/",
          "height": 35
        }
      },
      "source": [
        "'Hello {0}! Hello {1}!'.format('Python', 'World')"
      ],
      "execution_count": 35,
      "outputs": [
        {
          "output_type": "execute_result",
          "data": {
            "application/vnd.google.colaboratory.intrinsic+json": {
              "type": "string"
            },
            "text/plain": [
              "'Hello Python! Hello World!'"
            ]
          },
          "metadata": {},
          "execution_count": 35
        }
      ]
    },
    {
      "cell_type": "code",
      "metadata": {
        "id": "PGf4duRG4urx",
        "outputId": "332051fa-45af-4302-ea55-35b4f064405c",
        "colab": {
          "base_uri": "https://localhost:8080/"
        }
      },
      "source": [
        "'tomato'.count('o')"
      ],
      "execution_count": 36,
      "outputs": [
        {
          "output_type": "execute_result",
          "data": {
            "text/plain": [
              "2"
            ]
          },
          "metadata": {},
          "execution_count": 36
        }
      ]
    },
    {
      "cell_type": "code",
      "metadata": {
        "id": "nEvVTVNW4uvB",
        "outputId": "f063a384-8239-400a-d91c-078bda9b40af",
        "colab": {
          "base_uri": "https://localhost:8080/"
        }
      },
      "source": [
        "'tomato'.find('o')"
      ],
      "execution_count": 37,
      "outputs": [
        {
          "output_type": "execute_result",
          "data": {
            "text/plain": [
              "1"
            ]
          },
          "metadata": {},
          "execution_count": 37
        }
      ]
    },
    {
      "cell_type": "code",
      "metadata": {
        "id": "LcVkJGXD4yzd",
        "outputId": "6f7ab7ef-75fc-4d0c-c44d-10b7e35add04",
        "colab": {
          "base_uri": "https://localhost:8080/"
        }
      },
      "source": [
        "'tomato'.find('o','tomato'.find('o')+1)"
      ],
      "execution_count": 38,
      "outputs": [
        {
          "output_type": "execute_result",
          "data": {
            "text/plain": [
              "5"
            ]
          },
          "metadata": {},
          "execution_count": 38
        }
      ]
    },
    {
      "cell_type": "code",
      "metadata": {
        "id": "uJ3JHxAw4y2l",
        "outputId": "7216957d-9043-4487-d5a3-4363bf1af00c",
        "colab": {
          "base_uri": "https://localhost:8080/"
        }
      },
      "source": [
        "'avocado'.find('o','avocado'.find('o')+1)"
      ],
      "execution_count": 39,
      "outputs": [
        {
          "output_type": "execute_result",
          "data": {
            "text/plain": [
              "6"
            ]
          },
          "metadata": {},
          "execution_count": 39
        }
      ]
    },
    {
      "cell_type": "code",
      "metadata": {
        "id": "u2J28vGR4y5u",
        "outputId": "5511868e-29ea-48a2-88fd-91baa67d292f",
        "colab": {
          "base_uri": "https://localhost:8080/",
          "height": 35
        }
      },
      "source": [
        "'runner'.replace('n','b',2)"
      ],
      "execution_count": 40,
      "outputs": [
        {
          "output_type": "execute_result",
          "data": {
            "application/vnd.google.colaboratory.intrinsic+json": {
              "type": "string"
            },
            "text/plain": [
              "'rubber'"
            ]
          },
          "metadata": {},
          "execution_count": 40
        }
      ]
    },
    {
      "cell_type": "code",
      "metadata": {
        "id": "CVaM6je_4y9W"
      },
      "source": [
        "s='yes'"
      ],
      "execution_count": 41,
      "outputs": []
    },
    {
      "cell_type": "code",
      "metadata": {
        "id": "hdgNdseP48CC"
      },
      "source": [
        "fruit ='pineapple'"
      ],
      "execution_count": 44,
      "outputs": []
    },
    {
      "cell_type": "code",
      "metadata": {
        "id": "NM_171Zu48Fd",
        "outputId": "e8075949-4ae4-406d-98c2-ef421fa47882",
        "colab": {
          "base_uri": "https://localhost:8080/"
        }
      },
      "source": [
        "fruit.find('p', fruit.count('p'))"
      ],
      "execution_count": 43,
      "outputs": [
        {
          "output_type": "execute_result",
          "data": {
            "text/plain": [
              "5"
            ]
          },
          "metadata": {},
          "execution_count": 43
        }
      ]
    },
    {
      "cell_type": "code",
      "metadata": {
        "id": "f7nmd2QB48I3",
        "outputId": "7cd246d0-7c01-4e62-b391-ab6eeb24202e",
        "colab": {
          "base_uri": "https://localhost:8080/"
        }
      },
      "source": [
        "fruit.count(fruit.upper().swapcase())"
      ],
      "execution_count": 45,
      "outputs": [
        {
          "output_type": "execute_result",
          "data": {
            "text/plain": [
              "1"
            ]
          },
          "metadata": {},
          "execution_count": 45
        }
      ]
    },
    {
      "cell_type": "code",
      "metadata": {
        "id": "BNdpkGop48OC",
        "outputId": "bf0f8df0-e30e-4737-cea4-b788e0cebec9",
        "colab": {
          "base_uri": "https://localhost:8080/",
          "height": 35
        }
      },
      "source": [
        "fruit.upper()"
      ],
      "execution_count": 46,
      "outputs": [
        {
          "output_type": "execute_result",
          "data": {
            "application/vnd.google.colaboratory.intrinsic+json": {
              "type": "string"
            },
            "text/plain": [
              "'PINEAPPLE'"
            ]
          },
          "metadata": {},
          "execution_count": 46
        }
      ]
    },
    {
      "cell_type": "code",
      "metadata": {
        "id": "pbkoMI1J48Ri",
        "outputId": "16e2566d-d501-49d8-9f51-7889b2e49c3a",
        "colab": {
          "base_uri": "https://localhost:8080/",
          "height": 35
        }
      },
      "source": [
        "fruit.upper().swapcase()"
      ],
      "execution_count": 47,
      "outputs": [
        {
          "output_type": "execute_result",
          "data": {
            "application/vnd.google.colaboratory.intrinsic+json": {
              "type": "string"
            },
            "text/plain": [
              "'pineapple'"
            ]
          },
          "metadata": {},
          "execution_count": 47
        }
      ]
    },
    {
      "cell_type": "code",
      "metadata": {
        "id": "Y1ofsa_648VT",
        "outputId": "dc344f23-17c7-4cd3-87bc-61c7b83e1876",
        "colab": {
          "base_uri": "https://localhost:8080/",
          "height": 35
        }
      },
      "source": [
        "fruit.replace(fruit.swapcase(), fruit.lower())"
      ],
      "execution_count": 48,
      "outputs": [
        {
          "output_type": "execute_result",
          "data": {
            "application/vnd.google.colaboratory.intrinsic+json": {
              "type": "string"
            },
            "text/plain": [
              "'pineapple'"
            ]
          },
          "metadata": {},
          "execution_count": 48
        }
      ]
    },
    {
      "cell_type": "code",
      "metadata": {
        "id": "oy99dVii5CPv"
      },
      "source": [
        "season =  'summer'"
      ],
      "execution_count": 51,
      "outputs": []
    },
    {
      "cell_type": "code",
      "metadata": {
        "id": "ZkKLGpNT5CS1",
        "outputId": "d10a8041-e4db-48e9-eb6a-3e4d862abe92",
        "colab": {
          "base_uri": "https://localhost:8080/",
          "height": 35
        }
      },
      "source": [
        "'I love {0}!'.format(season)"
      ],
      "execution_count": 52,
      "outputs": [
        {
          "output_type": "execute_result",
          "data": {
            "application/vnd.google.colaboratory.intrinsic+json": {
              "type": "string"
            },
            "text/plain": [
              "'I love summer!'"
            ]
          },
          "metadata": {},
          "execution_count": 52
        }
      ]
    },
    {
      "cell_type": "code",
      "metadata": {
        "id": "_607W2dK5CXB",
        "outputId": "8861efce-8884-4cb7-9eb6-0e20cff6b529",
        "colab": {
          "base_uri": "https://localhost:8080/",
          "height": 35
        }
      },
      "source": [
        "side1 = 3\n",
        "side2 = 4\n",
        "side3 = 5\n",
        "'The sides have lengths {0}, {1}, and {2}.'.format(side1,side2,side3)"
      ],
      "execution_count": 53,
      "outputs": [
        {
          "output_type": "execute_result",
          "data": {
            "application/vnd.google.colaboratory.intrinsic+json": {
              "type": "string"
            },
            "text/plain": [
              "'The sides have lengths 3, 4, and 5.'"
            ]
          },
          "metadata": {},
          "execution_count": 53
        }
      ]
    },
    {
      "cell_type": "code",
      "metadata": {
        "id": "vZ-U6Pib5CdA",
        "outputId": "c26a0944-783d-4540-e58c-bb009eb2f892",
        "colab": {
          "base_uri": "https://localhost:8080/",
          "height": 35
        }
      },
      "source": [
        "'boolean'.upper()"
      ],
      "execution_count": 54,
      "outputs": [
        {
          "output_type": "execute_result",
          "data": {
            "application/vnd.google.colaboratory.intrinsic+json": {
              "type": "string"
            },
            "text/plain": [
              "'BOOLEAN'"
            ]
          },
          "metadata": {},
          "execution_count": 54
        }
      ]
    },
    {
      "cell_type": "code",
      "metadata": {
        "id": "ie4z364H5Cgf",
        "outputId": "dba7b2b7-11a0-4f9e-f8e2-c24c3bcfdb85",
        "colab": {
          "base_uri": "https://localhost:8080/"
        }
      },
      "source": [
        "'CO2 H2O'.count('2')"
      ],
      "execution_count": 55,
      "outputs": [
        {
          "output_type": "execute_result",
          "data": {
            "text/plain": [
              "2"
            ]
          },
          "metadata": {},
          "execution_count": 55
        }
      ]
    },
    {
      "cell_type": "code",
      "metadata": {
        "id": "GlScM3o55CkW",
        "outputId": "6d225cc0-e4c2-4f85-f710-4c8dbf36df04",
        "colab": {
          "base_uri": "https://localhost:8080/"
        }
      },
      "source": [
        "'CO2 H2O'.find('2')"
      ],
      "execution_count": 56,
      "outputs": [
        {
          "output_type": "execute_result",
          "data": {
            "text/plain": [
              "2"
            ]
          },
          "metadata": {},
          "execution_count": 56
        }
      ]
    },
    {
      "cell_type": "code",
      "metadata": {
        "id": "qMRRfZJG5Col",
        "outputId": "439314ed-ffbd-4df4-e190-b2d5d1405134",
        "colab": {
          "base_uri": "https://localhost:8080/"
        }
      },
      "source": [
        "'CO2 H2O'.find('2','CO2 H2O'.find('2')+1)"
      ],
      "execution_count": 57,
      "outputs": [
        {
          "output_type": "execute_result",
          "data": {
            "text/plain": [
              "5"
            ]
          },
          "metadata": {},
          "execution_count": 57
        }
      ]
    },
    {
      "cell_type": "code",
      "metadata": {
        "id": "HKhnQ8Np5NJG",
        "outputId": "a47b9a07-c32a-4932-ef81-e18b58796fe8",
        "colab": {
          "base_uri": "https://localhost:8080/"
        }
      },
      "source": [
        "'Boolean'.startswith('b')"
      ],
      "execution_count": 58,
      "outputs": [
        {
          "output_type": "execute_result",
          "data": {
            "text/plain": [
              "False"
            ]
          },
          "metadata": {},
          "execution_count": 58
        }
      ]
    },
    {
      "cell_type": "code",
      "metadata": {
        "id": "DSg1ynAk5NTF",
        "outputId": "0f986332-968c-4990-f0ec-1e917594c1a1",
        "colab": {
          "base_uri": "https://localhost:8080/",
          "height": 35
        }
      },
      "source": [
        "\"MoNDaY\".lower().upper()"
      ],
      "execution_count": 59,
      "outputs": [
        {
          "output_type": "execute_result",
          "data": {
            "application/vnd.google.colaboratory.intrinsic+json": {
              "type": "string"
            },
            "text/plain": [
              "'MONDAY'"
            ]
          },
          "metadata": {},
          "execution_count": 59
        }
      ]
    },
    {
      "cell_type": "code",
      "metadata": {
        "id": "8zjDx0-15NWr",
        "outputId": "310db881-4fd4-4073-f54a-748e49d421cf",
        "colab": {
          "base_uri": "https://localhost:8080/",
          "height": 35
        }
      },
      "source": [
        "\" Monday \".strip()"
      ],
      "execution_count": 60,
      "outputs": [
        {
          "output_type": "execute_result",
          "data": {
            "application/vnd.google.colaboratory.intrinsic+json": {
              "type": "string"
            },
            "text/plain": [
              "'Monday'"
            ]
          },
          "metadata": {},
          "execution_count": 60
        }
      ]
    },
    {
      "cell_type": "code",
      "metadata": {
        "id": "mkOu9yp45NZ_",
        "outputId": "94e65e2c-1cfe-4505-bc2e-28b6012a3c56",
        "colab": {
          "base_uri": "https://localhost:8080/",
          "height": 35
        }
      },
      "source": [
        "\" Monday \".lstrip()"
      ],
      "execution_count": 61,
      "outputs": [
        {
          "output_type": "execute_result",
          "data": {
            "application/vnd.google.colaboratory.intrinsic+json": {
              "type": "string"
            },
            "text/plain": [
              "'Monday '"
            ]
          },
          "metadata": {},
          "execution_count": 61
        }
      ]
    },
    {
      "cell_type": "code",
      "metadata": {
        "id": "-FJYZDfD5Nfv",
        "outputId": "f2080fda-0e83-4c4d-97d1-5ed251cd8ee0",
        "colab": {
          "base_uri": "https://localhost:8080/",
          "height": 35
        }
      },
      "source": [
        "\" Monday \".rstrip()"
      ],
      "execution_count": 62,
      "outputs": [
        {
          "output_type": "execute_result",
          "data": {
            "application/vnd.google.colaboratory.intrinsic+json": {
              "type": "string"
            },
            "text/plain": [
              "' Monday'"
            ]
          },
          "metadata": {},
          "execution_count": 62
        }
      ]
    },
    {
      "cell_type": "code",
      "metadata": {
        "id": "XlGMUio95Njp"
      },
      "source": [
        "def total_occurrences(s1, s2, ch):\n",
        "  number=0\n",
        "  for i in s1:\n",
        "    if i == ch:\n",
        "      number = number + 1\n",
        "  for i in s2:\n",
        "    if i == ch:\n",
        "      number = number + 1\n",
        "  return number"
      ],
      "execution_count": 65,
      "outputs": []
    },
    {
      "cell_type": "code",
      "metadata": {
        "id": "9TeeEaFj5N1D",
        "outputId": "d46f2c09-dd65-42db-e95d-e80414ac4e9d",
        "colab": {
          "base_uri": "https://localhost:8080/"
        }
      },
      "source": [
        "total_occurrences('green','purple','b')"
      ],
      "execution_count": 68,
      "outputs": [
        {
          "output_type": "execute_result",
          "data": {
            "text/plain": [
              "0"
            ]
          },
          "metadata": {},
          "execution_count": 68
        }
      ]
    }
  ]
}