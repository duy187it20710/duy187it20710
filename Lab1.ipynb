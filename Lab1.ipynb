{
  "nbformat": 4,
  "nbformat_minor": 0,
  "metadata": {
    "colab": {
      "name": "Lab1.ipynb",
      "provenance": [],
      "authorship_tag": "ABX9TyMGCx49eGIBDcoKaAbzz3yG",
      "include_colab_link": true
    },
    "kernelspec": {
      "name": "python3",
      "display_name": "Python 3"
    },
    "language_info": {
      "name": "python"
    }
  },
  "cells": [
    {
      "cell_type": "markdown",
      "metadata": {
        "id": "view-in-github",
        "colab_type": "text"
      },
      "source": [
        "<a href=\"https://colab.research.google.com/github/duy187it20710/duy187it20710/blob/main/Lab1.ipynb\" target=\"_parent\"><img src=\"https://colab.research.google.com/assets/colab-badge.svg\" alt=\"Open In Colab\"/></a>"
      ]
    },
    {
      "cell_type": "code",
      "metadata": {
        "id": "GFsLFG8yEaPV",
        "colab": {
          "base_uri": "https://localhost:8080/"
        },
        "outputId": "36c8d76b-de9d-4424-f902-2bbbfade71d9"
      },
      "source": [
        "min(2,3,4)"
      ],
      "execution_count": 2,
      "outputs": [
        {
          "output_type": "execute_result",
          "data": {
            "text/plain": [
              "2"
            ]
          },
          "metadata": {},
          "execution_count": 2
        }
      ]
    },
    {
      "cell_type": "code",
      "metadata": {
        "colab": {
          "base_uri": "https://localhost:8080/"
        },
        "id": "0ybm9Uvjaza3",
        "outputId": "f3e8fab3-ab6c-4b7c-9188-2ac4ed90cd0a"
      },
      "source": [
        "max(2,-3,4,7,-5)"
      ],
      "execution_count": 3,
      "outputs": [
        {
          "output_type": "execute_result",
          "data": {
            "text/plain": [
              "7"
            ]
          },
          "metadata": {},
          "execution_count": 3
        }
      ]
    },
    {
      "cell_type": "code",
      "metadata": {
        "colab": {
          "base_uri": "https://localhost:8080/"
        },
        "id": "BIG_GYmHbQ3I",
        "outputId": "69afdf2d-67d3-48fc-ae5a-2b58aa0af96a"
      },
      "source": [
        "max(2,-3,min(4,7),-5)"
      ],
      "execution_count": 4,
      "outputs": [
        {
          "output_type": "execute_result",
          "data": {
            "text/plain": [
              "4"
            ]
          },
          "metadata": {},
          "execution_count": 4
        }
      ]
    },
    {
      "cell_type": "code",
      "metadata": {
        "colab": {
          "base_uri": "https://localhost:8080/"
        },
        "id": "SIYhhv6_bQ6H",
        "outputId": "85a87cb8-8155-489e-fbf5-8778a414bca7"
      },
      "source": [
        "min(max(3,4),abs(-5))"
      ],
      "execution_count": 5,
      "outputs": [
        {
          "output_type": "execute_result",
          "data": {
            "text/plain": [
              "4"
            ]
          },
          "metadata": {},
          "execution_count": 5
        }
      ]
    },
    {
      "cell_type": "code",
      "metadata": {
        "colab": {
          "base_uri": "https://localhost:8080/"
        },
        "id": "pHl2kFgKbnn5",
        "outputId": "6edf2f88-ba7d-4477-fd21-61f94146a86c"
      },
      "source": [
        "abs(min(4,6,max(2,8)))"
      ],
      "execution_count": 6,
      "outputs": [
        {
          "output_type": "execute_result",
          "data": {
            "text/plain": [
              "4"
            ]
          },
          "metadata": {},
          "execution_count": 6
        }
      ]
    },
    {
      "cell_type": "code",
      "metadata": {
        "colab": {
          "base_uri": "https://localhost:8080/"
        },
        "id": "88-TJMptbnqg",
        "outputId": "54ca12a9-c233-4606-9ac0-e74eb300a67d"
      },
      "source": [
        "round(max(5.572,3.258),abs(-2))"
      ],
      "execution_count": 7,
      "outputs": [
        {
          "output_type": "execute_result",
          "data": {
            "text/plain": [
              "5.57"
            ]
          },
          "metadata": {},
          "execution_count": 7
        }
      ]
    },
    {
      "cell_type": "code",
      "metadata": {
        "colab": {
          "base_uri": "https://localhost:8080/"
        },
        "id": "oWw16cQQb5V0",
        "outputId": "415422d1-11aa-462b-c03e-2fb77e77f8e9"
      },
      "source": [
        "def triple(num):\n",
        "  return num * 3 \n",
        "triple(3)"
      ],
      "execution_count": 11,
      "outputs": [
        {
          "output_type": "execute_result",
          "data": {
            "text/plain": [
              "9"
            ]
          },
          "metadata": {},
          "execution_count": 11
        }
      ]
    },
    {
      "cell_type": "code",
      "metadata": {
        "colab": {
          "base_uri": "https://localhost:8080/"
        },
        "id": "FlufDwE1b5nI",
        "outputId": "7ee79638-a0d6-46a6-872c-63400f00f178"
      },
      "source": [
        "def absolute_difference(number1, number2):\n",
        "  return abs(number1 - number2)\n",
        "absolute_difference(3, 7)  "
      ],
      "execution_count": 12,
      "outputs": [
        {
          "output_type": "execute_result",
          "data": {
            "text/plain": [
              "4"
            ]
          },
          "metadata": {},
          "execution_count": 12
        }
      ]
    },
    {
      "cell_type": "code",
      "metadata": {
        "colab": {
          "base_uri": "https://localhost:8080/"
        },
        "id": "tDmyOaqEb5p0",
        "outputId": "ad7d13a6-0f39-405f-82b7-39109259a76d"
      },
      "source": [
        "def km_to_miles(km):\n",
        "  return km / 1.6\n",
        "km_to_miles(5)  "
      ],
      "execution_count": 13,
      "outputs": [
        {
          "output_type": "execute_result",
          "data": {
            "text/plain": [
              "3.125"
            ]
          },
          "metadata": {},
          "execution_count": 13
        }
      ]
    },
    {
      "cell_type": "code",
      "metadata": {
        "colab": {
          "base_uri": "https://localhost:8080/"
        },
        "id": "YVDsVSDec_mf",
        "outputId": "f92692ca-af91-4357-a6d2-d0a087614a4b"
      },
      "source": [
        "def average_grade(grade1, grade2, grade3):\n",
        "  return (grade1 + grade2 + grade3) / 3\n",
        "average_grade(80, 95, 90)  "
      ],
      "execution_count": 14,
      "outputs": [
        {
          "output_type": "execute_result",
          "data": {
            "text/plain": [
              "88.33333333333333"
            ]
          },
          "metadata": {},
          "execution_count": 14
        }
      ]
    },
    {
      "cell_type": "code",
      "metadata": {
        "colab": {
          "base_uri": "https://localhost:8080/"
        },
        "id": "o6n8nN1wdpi1",
        "outputId": "1363311e-4822-439e-91c0-f0e96525d049"
      },
      "source": [
        "def top_three_avg(grade1, grade2, grade3, grade4):\n",
        "  total = grade1 + grade2 + grade3 + grade4\n",
        "  top_three = total - min(grade1, grade2, grade3, grade4)\n",
        "  return top_three / 3\n",
        "  return max(average_grade(grade1, grade2, grade3),\n",
        "average_grade(1, grade2, grade4),\n",
        "average_grade(grade1, grade3, grade4),\n",
        "average_grade(grade2, grade3, grade4))\n",
        "  return (grade1 + grade2 + grade3) / 3\n",
        "top_three_avg(50, 60, 70, 80) "
      ],
      "execution_count": 18,
      "outputs": [
        {
          "output_type": "execute_result",
          "data": {
            "text/plain": [
              "70.0"
            ]
          },
          "metadata": {},
          "execution_count": 18
        }
      ]
    },
    {
      "cell_type": "code",
      "metadata": {
        "id": "4w7ZLSjTe4A_"
      },
      "source": [
        ""
      ],
      "execution_count": null,
      "outputs": []
    },
    {
      "cell_type": "code",
      "metadata": {
        "id": "AfLOSotmdpmA"
      },
      "source": [
        ""
      ],
      "execution_count": null,
      "outputs": []
    }
  ]
}