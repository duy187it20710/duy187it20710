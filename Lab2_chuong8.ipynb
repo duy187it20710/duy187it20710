{
  "nbformat": 4,
  "nbformat_minor": 0,
  "metadata": {
    "colab": {
      "name": "Lab2_chuong8.ipynb",
      "provenance": [],
      "authorship_tag": "ABX9TyNevGDw1ocm+onTh20hAGks",
      "include_colab_link": true
    },
    "kernelspec": {
      "name": "python3",
      "display_name": "Python 3"
    },
    "language_info": {
      "name": "python"
    }
  },
  "cells": [
    {
      "cell_type": "markdown",
      "metadata": {
        "id": "view-in-github",
        "colab_type": "text"
      },
      "source": [
        "<a href=\"https://colab.research.google.com/github/duy187it20710/laptrinhpythonnangcao/blob/main/Lab2_chuong8.ipynb\" target=\"_parent\"><img src=\"https://colab.research.google.com/assets/colab-badge.svg\" alt=\"Open In Colab\"/></a>"
      ]
    },
    {
      "cell_type": "code",
      "metadata": {
        "colab": {
          "base_uri": "https://localhost:8080/",
          "height": 35
        },
        "id": "KLEBemL5W_wu",
        "outputId": "335f8a3d-f48b-4304-8872-79630f9dab2c"
      },
      "source": [
        "kingdoms = ['Bacteria', 'Protozoa', 'Chromista', 'Plantae', 'Fungi', 'Animalia']\n",
        "kingdoms[0]"
      ],
      "execution_count": 1,
      "outputs": [
        {
          "output_type": "execute_result",
          "data": {
            "application/vnd.google.colaboratory.intrinsic+json": {
              "type": "string"
            },
            "text/plain": [
              "'Bacteria'"
            ]
          },
          "metadata": {},
          "execution_count": 1
        }
      ]
    },
    {
      "cell_type": "code",
      "metadata": {
        "colab": {
          "base_uri": "https://localhost:8080/",
          "height": 35
        },
        "id": "RriwkK56Xl4x",
        "outputId": "4f7fa363-f5d6-42d7-cf4b-b5de5150a399"
      },
      "source": [
        "kingdoms[5]"
      ],
      "execution_count": 2,
      "outputs": [
        {
          "output_type": "execute_result",
          "data": {
            "application/vnd.google.colaboratory.intrinsic+json": {
              "type": "string"
            },
            "text/plain": [
              "'Animalia'"
            ]
          },
          "metadata": {},
          "execution_count": 2
        }
      ]
    },
    {
      "cell_type": "code",
      "metadata": {
        "colab": {
          "base_uri": "https://localhost:8080/"
        },
        "id": "6_LdxQ2mXl8i",
        "outputId": "7fb9b027-6be8-46ff-8086-a17574cee71e"
      },
      "source": [
        "kingdoms[:3]"
      ],
      "execution_count": 3,
      "outputs": [
        {
          "output_type": "execute_result",
          "data": {
            "text/plain": [
              "['Bacteria', 'Protozoa', 'Chromista']"
            ]
          },
          "metadata": {},
          "execution_count": 3
        }
      ]
    },
    {
      "cell_type": "code",
      "metadata": {
        "colab": {
          "base_uri": "https://localhost:8080/"
        },
        "id": "KBjTehz-XmAE",
        "outputId": "b469082f-e5b1-4aea-ed9b-be1f9cd85d5d"
      },
      "source": [
        "kingdoms[2:5]"
      ],
      "execution_count": 4,
      "outputs": [
        {
          "output_type": "execute_result",
          "data": {
            "text/plain": [
              "['Chromista', 'Plantae', 'Fungi']"
            ]
          },
          "metadata": {},
          "execution_count": 4
        }
      ]
    },
    {
      "cell_type": "code",
      "metadata": {
        "colab": {
          "base_uri": "https://localhost:8080/"
        },
        "id": "3cc6UewpXmDB",
        "outputId": "fc5010ec-c57d-40ce-85b6-227afae7f676"
      },
      "source": [
        "kingdoms[4:]"
      ],
      "execution_count": 5,
      "outputs": [
        {
          "output_type": "execute_result",
          "data": {
            "text/plain": [
              "['Fungi', 'Animalia']"
            ]
          },
          "metadata": {},
          "execution_count": 5
        }
      ]
    },
    {
      "cell_type": "code",
      "metadata": {
        "colab": {
          "base_uri": "https://localhost:8080/"
        },
        "id": "pa4rPdrOXmGF",
        "outputId": "839a2575-8918-421f-b701-9a0977adf6c9"
      },
      "source": [
        "kingdoms[1:0]"
      ],
      "execution_count": 6,
      "outputs": [
        {
          "output_type": "execute_result",
          "data": {
            "text/plain": [
              "[]"
            ]
          },
          "metadata": {},
          "execution_count": 6
        }
      ]
    },
    {
      "cell_type": "code",
      "metadata": {
        "colab": {
          "base_uri": "https://localhost:8080/",
          "height": 35
        },
        "id": "LXKFqEpaXmKv",
        "outputId": "6ed8af34-b465-46d1-cee0-8ee6d3a1140d"
      },
      "source": [
        "kingdoms = ['Bacteria', 'Protozoa', 'Chromista', 'Plantae', 'Fungi', 'Animalia']\n",
        "kingdoms[-6]"
      ],
      "execution_count": 7,
      "outputs": [
        {
          "output_type": "execute_result",
          "data": {
            "application/vnd.google.colaboratory.intrinsic+json": {
              "type": "string"
            },
            "text/plain": [
              "'Bacteria'"
            ]
          },
          "metadata": {},
          "execution_count": 7
        }
      ]
    },
    {
      "cell_type": "code",
      "metadata": {
        "colab": {
          "base_uri": "https://localhost:8080/",
          "height": 35
        },
        "id": "BDbpWT15XmOk",
        "outputId": "f3abcbd0-241b-4424-a5a4-2e7d2144b89e"
      },
      "source": [
        "kingdoms[-1]"
      ],
      "execution_count": 8,
      "outputs": [
        {
          "output_type": "execute_result",
          "data": {
            "application/vnd.google.colaboratory.intrinsic+json": {
              "type": "string"
            },
            "text/plain": [
              "'Animalia'"
            ]
          },
          "metadata": {},
          "execution_count": 8
        }
      ]
    },
    {
      "cell_type": "code",
      "metadata": {
        "colab": {
          "base_uri": "https://localhost:8080/"
        },
        "id": "zlNrkpjEXmR3",
        "outputId": "83495b8b-33e1-47ab-ddb9-c12e65da20bb"
      },
      "source": [
        "kingdoms[-6:-3]"
      ],
      "execution_count": 9,
      "outputs": [
        {
          "output_type": "execute_result",
          "data": {
            "text/plain": [
              "['Bacteria', 'Protozoa', 'Chromista']"
            ]
          },
          "metadata": {},
          "execution_count": 9
        }
      ]
    },
    {
      "cell_type": "code",
      "metadata": {
        "colab": {
          "base_uri": "https://localhost:8080/"
        },
        "id": "QOhMAhhiXmUU",
        "outputId": "418a23ad-0d86-43dd-b57e-3c656d9b0b82"
      },
      "source": [
        "kingdoms[-4:-1]"
      ],
      "execution_count": 10,
      "outputs": [
        {
          "output_type": "execute_result",
          "data": {
            "text/plain": [
              "['Chromista', 'Plantae', 'Fungi']"
            ]
          },
          "metadata": {},
          "execution_count": 10
        }
      ]
    },
    {
      "cell_type": "code",
      "metadata": {
        "colab": {
          "base_uri": "https://localhost:8080/"
        },
        "id": "9XJyM-HSYI0o",
        "outputId": "fef12f11-1a9c-4959-9dec-ee33320107fb"
      },
      "source": [
        "kingdoms[-2:]"
      ],
      "execution_count": 11,
      "outputs": [
        {
          "output_type": "execute_result",
          "data": {
            "text/plain": [
              "['Fungi', 'Animalia']"
            ]
          },
          "metadata": {},
          "execution_count": 11
        }
      ]
    },
    {
      "cell_type": "code",
      "metadata": {
        "colab": {
          "base_uri": "https://localhost:8080/"
        },
        "id": "6pF0nKpkYJAU",
        "outputId": "1929f8ac-1c5b-4f42-8460-b627d14adddc"
      },
      "source": [
        "kingdoms[-1:-2]"
      ],
      "execution_count": 12,
      "outputs": [
        {
          "output_type": "execute_result",
          "data": {
            "text/plain": [
              "[]"
            ]
          },
          "metadata": {},
          "execution_count": 12
        }
      ]
    },
    {
      "cell_type": "code",
      "metadata": {
        "colab": {
          "base_uri": "https://localhost:8080/"
        },
        "id": "ihbRbhWwYJDc",
        "outputId": "4d265393-e3d6-4804-f278-87d8f86f6ba3"
      },
      "source": [
        "appointments = ['9:00', '10:30', '14:00', '15:00', '15:30']\n",
        "appointments.append('16:30')\n",
        "appointments"
      ],
      "execution_count": 13,
      "outputs": [
        {
          "output_type": "execute_result",
          "data": {
            "text/plain": [
              "['9:00', '10:30', '14:00', '15:00', '15:30', '16:30']"
            ]
          },
          "metadata": {},
          "execution_count": 13
        }
      ]
    },
    {
      "cell_type": "code",
      "metadata": {
        "colab": {
          "base_uri": "https://localhost:8080/"
        },
        "id": "GmaksCqCYJG2",
        "outputId": "09feb7da-f404-477a-8402-a3b6d01ace1e"
      },
      "source": [
        "appointments += ['16:30']\n",
        "appointments"
      ],
      "execution_count": 14,
      "outputs": [
        {
          "output_type": "execute_result",
          "data": {
            "text/plain": [
              "['9:00', '10:30', '14:00', '15:00', '15:30', '16:30', '16:30']"
            ]
          },
          "metadata": {},
          "execution_count": 14
        }
      ]
    },
    {
      "cell_type": "code",
      "metadata": {
        "colab": {
          "base_uri": "https://localhost:8080/"
        },
        "id": "zqmQWLHAYJKR",
        "outputId": "470a40e4-5987-478b-fb58-d14f808278a5"
      },
      "source": [
        "ids = [4353, 2314, 2956, 3382, 9362, 3900]\n",
        "ids.remove(3382)\n",
        "ids"
      ],
      "execution_count": 15,
      "outputs": [
        {
          "output_type": "execute_result",
          "data": {
            "text/plain": [
              "[4353, 2314, 2956, 9362, 3900]"
            ]
          },
          "metadata": {},
          "execution_count": 15
        }
      ]
    },
    {
      "cell_type": "code",
      "metadata": {
        "colab": {
          "base_uri": "https://localhost:8080/"
        },
        "id": "QhZ3GHplYJM8",
        "outputId": "a17a8003-c63e-4039-bc06-e675e22bea18"
      },
      "source": [
        "ids.index(9362)\n",
        "ids"
      ],
      "execution_count": 16,
      "outputs": [
        {
          "output_type": "execute_result",
          "data": {
            "text/plain": [
              "[4353, 2314, 2956, 9362, 3900]"
            ]
          },
          "metadata": {},
          "execution_count": 16
        }
      ]
    },
    {
      "cell_type": "code",
      "metadata": {
        "colab": {
          "base_uri": "https://localhost:8080/"
        },
        "id": "cp06pk2HYJP0",
        "outputId": "c673e447-762c-47df-ca18-025f125283e8"
      },
      "source": [
        "ids.insert(ids.index(9362) + 1, 4499)\n",
        "ids"
      ],
      "execution_count": 17,
      "outputs": [
        {
          "output_type": "execute_result",
          "data": {
            "text/plain": [
              "[4353, 2314, 2956, 9362, 4499, 3900]"
            ]
          },
          "metadata": {},
          "execution_count": 17
        }
      ]
    },
    {
      "cell_type": "code",
      "metadata": {
        "colab": {
          "base_uri": "https://localhost:8080/"
        },
        "id": "v778veWuYJSR",
        "outputId": "de71cfd5-3a98-4f8e-eaa7-0d88d340db47"
      },
      "source": [
        "ids = ids + [5566, 1830] \n",
        "ids"
      ],
      "execution_count": 18,
      "outputs": [
        {
          "output_type": "execute_result",
          "data": {
            "text/plain": [
              "[4353, 2314, 2956, 9362, 4499, 3900, 5566, 1830]"
            ]
          },
          "metadata": {},
          "execution_count": 18
        }
      ]
    },
    {
      "cell_type": "code",
      "metadata": {
        "id": "-e9OgXU7Yegy",
        "colab": {
          "base_uri": "https://localhost:8080/"
        },
        "outputId": "b5f46dd9-a3a8-427e-ec14-cdc15ab58139"
      },
      "source": [
        "ids.reverse\n",
        "ids"
      ],
      "execution_count": 19,
      "outputs": [
        {
          "output_type": "execute_result",
          "data": {
            "text/plain": [
              "[4353, 2314, 2956, 9362, 4499, 3900, 5566, 1830]"
            ]
          },
          "metadata": {},
          "execution_count": 19
        }
      ]
    },
    {
      "cell_type": "code",
      "metadata": {
        "id": "93S-RlLJYekS",
        "colab": {
          "base_uri": "https://localhost:8080/"
        },
        "outputId": "00b40d52-b4ee-4919-ec2a-8e0a385d06ac"
      },
      "source": [
        "ids.sort\n",
        "ids"
      ],
      "execution_count": 20,
      "outputs": [
        {
          "output_type": "execute_result",
          "data": {
            "text/plain": [
              "[4353, 2314, 2956, 9362, 4499, 3900, 5566, 1830]"
            ]
          },
          "metadata": {},
          "execution_count": 20
        }
      ]
    },
    {
      "cell_type": "code",
      "metadata": {
        "id": "CaiO3lGVYeon"
      },
      "source": [
        "alkaline_earth_metals = [4, 12, 20, 38, 56, 88]"
      ],
      "execution_count": 21,
      "outputs": []
    },
    {
      "cell_type": "code",
      "metadata": {
        "id": "xJQyW-NaYesz",
        "colab": {
          "base_uri": "https://localhost:8080/"
        },
        "outputId": "3c3a4917-5cce-4f46-eac2-a3c20d86a121"
      },
      "source": [
        "alkaline_earth_metals[5]"
      ],
      "execution_count": 22,
      "outputs": [
        {
          "output_type": "execute_result",
          "data": {
            "text/plain": [
              "88"
            ]
          },
          "metadata": {},
          "execution_count": 22
        }
      ]
    },
    {
      "cell_type": "code",
      "metadata": {
        "id": "ElpYrynUYe-N",
        "colab": {
          "base_uri": "https://localhost:8080/"
        },
        "outputId": "eefbd3fd-0526-4ba2-f123-17403d491ee8"
      },
      "source": [
        "alkaline_earth_metals[-1]"
      ],
      "execution_count": 23,
      "outputs": [
        {
          "output_type": "execute_result",
          "data": {
            "text/plain": [
              "88"
            ]
          },
          "metadata": {},
          "execution_count": 23
        }
      ]
    },
    {
      "cell_type": "code",
      "metadata": {
        "id": "RFG-pprXYfA5",
        "colab": {
          "base_uri": "https://localhost:8080/"
        },
        "outputId": "2810e26b-e8c4-4d5b-9948-d9e3d78145fa"
      },
      "source": [
        "len(alkaline_earth_metals)"
      ],
      "execution_count": 24,
      "outputs": [
        {
          "output_type": "execute_result",
          "data": {
            "text/plain": [
              "6"
            ]
          },
          "metadata": {},
          "execution_count": 24
        }
      ]
    },
    {
      "cell_type": "code",
      "metadata": {
        "id": "O50tjt4cYfEE",
        "colab": {
          "base_uri": "https://localhost:8080/"
        },
        "outputId": "c19a4909-56b0-42fe-9d16-50be2ebb0cca"
      },
      "source": [
        "max(alkaline_earth_metals)"
      ],
      "execution_count": 25,
      "outputs": [
        {
          "output_type": "execute_result",
          "data": {
            "text/plain": [
              "88"
            ]
          },
          "metadata": {},
          "execution_count": 25
        }
      ]
    },
    {
      "cell_type": "code",
      "metadata": {
        "id": "cASFeDfgYfHj"
      },
      "source": [
        "temps = [25.2, 16.8, 31.4, 23.9, 28, 22.5, 19.6]\n"
      ],
      "execution_count": 26,
      "outputs": []
    },
    {
      "cell_type": "code",
      "metadata": {
        "id": "QvsDTb3fYfK3",
        "colab": {
          "base_uri": "https://localhost:8080/"
        },
        "outputId": "884b1a50-0f05-45f0-d5e9-fe9e3bb629de"
      },
      "source": [
        "temps.sort()\n",
        "temps"
      ],
      "execution_count": 27,
      "outputs": [
        {
          "output_type": "execute_result",
          "data": {
            "text/plain": [
              "[16.8, 19.6, 22.5, 23.9, 25.2, 28, 31.4]"
            ]
          },
          "metadata": {},
          "execution_count": 27
        }
      ]
    },
    {
      "cell_type": "code",
      "metadata": {
        "id": "vCniRltkYfOV",
        "colab": {
          "base_uri": "https://localhost:8080/"
        },
        "outputId": "694c293c-7202-4a25-c651-5bd065bb89f0"
      },
      "source": [
        "cool_temps = temps[0:2]\n",
        "cool_temps"
      ],
      "execution_count": 28,
      "outputs": [
        {
          "output_type": "execute_result",
          "data": {
            "text/plain": [
              "[16.8, 19.6]"
            ]
          },
          "metadata": {},
          "execution_count": 28
        }
      ]
    },
    {
      "cell_type": "code",
      "metadata": {
        "id": "qWtqedZOYfQ9",
        "colab": {
          "base_uri": "https://localhost:8080/"
        },
        "outputId": "3afa5e1b-6e18-4777-d7a6-2f3529029ac2"
      },
      "source": [
        "warm_temps = temps[2:]\n",
        "warm_temps"
      ],
      "execution_count": 29,
      "outputs": [
        {
          "output_type": "execute_result",
          "data": {
            "text/plain": [
              "[22.5, 23.9, 25.2, 28, 31.4]"
            ]
          },
          "metadata": {},
          "execution_count": 29
        }
      ]
    },
    {
      "cell_type": "code",
      "metadata": {
        "id": "VdXIp_UWYfT9",
        "colab": {
          "base_uri": "https://localhost:8080/"
        },
        "outputId": "2a5e8b61-a55a-4f0c-b72b-ef1d726b9ab4"
      },
      "source": [
        "temps_in_celsius = cool_temps + warm_temps\n",
        "temps_in_celsius"
      ],
      "execution_count": 30,
      "outputs": [
        {
          "output_type": "execute_result",
          "data": {
            "text/plain": [
              "[16.8, 19.6, 22.5, 23.9, 25.2, 28, 31.4]"
            ]
          },
          "metadata": {},
          "execution_count": 30
        }
      ]
    },
    {
      "cell_type": "code",
      "metadata": {
        "id": "VVUw93U-Y_c8",
        "colab": {
          "base_uri": "https://localhost:8080/"
        },
        "outputId": "8b385474-d60b-4daa-8e12-8770e2c3e3f6"
      },
      "source": [
        "def same_first_last(L: list) -> bool:\n",
        "    if(len(L) >= 2):\n",
        "      return L[0] == L[-1]\n",
        "same_first_last([3, 4, 2, 8, 3])"
      ],
      "execution_count": 31,
      "outputs": [
        {
          "output_type": "execute_result",
          "data": {
            "text/plain": [
              "True"
            ]
          },
          "metadata": {},
          "execution_count": 31
        }
      ]
    },
    {
      "cell_type": "code",
      "metadata": {
        "id": "knqH_SfdY_ot",
        "colab": {
          "base_uri": "https://localhost:8080/"
        },
        "outputId": "0f12455e-2d24-4afa-c8f7-ce0b2fbe0232"
      },
      "source": [
        "same_first_last(['apple', 'banana', 'pear'])"
      ],
      "execution_count": 32,
      "outputs": [
        {
          "output_type": "execute_result",
          "data": {
            "text/plain": [
              "False"
            ]
          },
          "metadata": {},
          "execution_count": 32
        }
      ]
    },
    {
      "cell_type": "code",
      "metadata": {
        "id": "SUWtOABHY_s1",
        "colab": {
          "base_uri": "https://localhost:8080/"
        },
        "outputId": "b088e631-c355-46fa-b485-f781f62c6f8d"
      },
      "source": [
        "same_first_last([4.0, 4.5])"
      ],
      "execution_count": 33,
      "outputs": [
        {
          "output_type": "execute_result",
          "data": {
            "text/plain": [
              "False"
            ]
          },
          "metadata": {},
          "execution_count": 33
        }
      ]
    },
    {
      "cell_type": "code",
      "metadata": {
        "id": "q7CXiH79Y_xf",
        "colab": {
          "base_uri": "https://localhost:8080/"
        },
        "outputId": "4e6ae133-8e05-4dbd-b4c7-a3149a592398"
      },
      "source": [
        "def is_longer(L1: list, L2: list) -> bool:\n",
        "    return len(L1) > len(L2)\n",
        "is_longer([1, 2, 3], [4, 5])"
      ],
      "execution_count": 34,
      "outputs": [
        {
          "output_type": "execute_result",
          "data": {
            "text/plain": [
              "True"
            ]
          },
          "metadata": {},
          "execution_count": 34
        }
      ]
    },
    {
      "cell_type": "code",
      "metadata": {
        "id": "sF1bylcSY_2b",
        "colab": {
          "base_uri": "https://localhost:8080/"
        },
        "outputId": "6d08429f-b138-4b44-98b1-dbb02deefcad"
      },
      "source": [
        "is_longer(['abcdef'], ['ab', 'cd', 'ef'])"
      ],
      "execution_count": 35,
      "outputs": [
        {
          "output_type": "execute_result",
          "data": {
            "text/plain": [
              "False"
            ]
          },
          "metadata": {},
          "execution_count": 35
        }
      ]
    },
    {
      "cell_type": "code",
      "metadata": {
        "id": "QzF4nWlPZADX",
        "colab": {
          "base_uri": "https://localhost:8080/"
        },
        "outputId": "9db365cd-bbdd-4b49-d67b-a5b87f30037a"
      },
      "source": [
        "is_longer(['a', 'b', 'c'], [1, 2, 3] )"
      ],
      "execution_count": 36,
      "outputs": [
        {
          "output_type": "execute_result",
          "data": {
            "text/plain": [
              "False"
            ]
          },
          "metadata": {},
          "execution_count": 36
        }
      ]
    },
    {
      "cell_type": "code",
      "metadata": {
        "id": "PS0TbdkyZAGc",
        "colab": {
          "base_uri": "https://localhost:8080/"
        },
        "outputId": "4d7d54f9-2d18-480d-83e4-e816d663ad60"
      },
      "source": [
        "units = [['km', 'miles', 'league'], ['kg', 'pound', 'stone']]\n",
        "units[0]"
      ],
      "execution_count": 37,
      "outputs": [
        {
          "output_type": "execute_result",
          "data": {
            "text/plain": [
              "['km', 'miles', 'league']"
            ]
          },
          "metadata": {},
          "execution_count": 37
        }
      ]
    },
    {
      "cell_type": "code",
      "metadata": {
        "id": "wjNEg_cOZAJj",
        "colab": {
          "base_uri": "https://localhost:8080/"
        },
        "outputId": "0a71bdc8-67b9-4403-f09a-38a19fe0e263"
      },
      "source": [
        "units[-1]"
      ],
      "execution_count": 38,
      "outputs": [
        {
          "output_type": "execute_result",
          "data": {
            "text/plain": [
              "['kg', 'pound', 'stone']"
            ]
          },
          "metadata": {},
          "execution_count": 38
        }
      ]
    },
    {
      "cell_type": "code",
      "metadata": {
        "id": "9QVEvb3RZQkK",
        "colab": {
          "base_uri": "https://localhost:8080/",
          "height": 35
        },
        "outputId": "0baa29a4-6297-4f47-ecee-b089a63f71e3"
      },
      "source": [
        "units[0][0]"
      ],
      "execution_count": 39,
      "outputs": [
        {
          "output_type": "execute_result",
          "data": {
            "application/vnd.google.colaboratory.intrinsic+json": {
              "type": "string"
            },
            "text/plain": [
              "'km'"
            ]
          },
          "metadata": {},
          "execution_count": 39
        }
      ]
    },
    {
      "cell_type": "code",
      "metadata": {
        "id": "HLCnEj7jZQoY",
        "colab": {
          "base_uri": "https://localhost:8080/",
          "height": 35
        },
        "outputId": "024787f4-d978-4f6d-dbbf-cee5c8ccad4f"
      },
      "source": [
        "units[1][0]"
      ],
      "execution_count": 40,
      "outputs": [
        {
          "output_type": "execute_result",
          "data": {
            "application/vnd.google.colaboratory.intrinsic+json": {
              "type": "string"
            },
            "text/plain": [
              "'kg'"
            ]
          },
          "metadata": {},
          "execution_count": 40
        }
      ]
    },
    {
      "cell_type": "code",
      "metadata": {
        "id": "rjlQm6d6ZQsi",
        "colab": {
          "base_uri": "https://localhost:8080/"
        },
        "outputId": "6ebef245-8280-4067-9d00-17133f37f97c"
      },
      "source": [
        "units[0][1:]"
      ],
      "execution_count": 41,
      "outputs": [
        {
          "output_type": "execute_result",
          "data": {
            "text/plain": [
              "['miles', 'league']"
            ]
          },
          "metadata": {},
          "execution_count": 41
        }
      ]
    },
    {
      "cell_type": "code",
      "metadata": {
        "id": "reAnsuSEZQwe",
        "colab": {
          "base_uri": "https://localhost:8080/"
        },
        "outputId": "4d105e9c-0957-4404-d141-5bdc847407d7"
      },
      "source": [
        "units[1][0:2]"
      ],
      "execution_count": 42,
      "outputs": [
        {
          "output_type": "execute_result",
          "data": {
            "text/plain": [
              "['kg', 'pound']"
            ]
          },
          "metadata": {},
          "execution_count": 42
        }
      ]
    },
    {
      "cell_type": "code",
      "metadata": {
        "id": "e1NFMynYZQzo",
        "colab": {
          "base_uri": "https://localhost:8080/"
        },
        "outputId": "bcc719dd-b3ce-45d6-c5c3-607906bfb06f"
      },
      "source": [
        "units[-2]"
      ],
      "execution_count": 43,
      "outputs": [
        {
          "output_type": "execute_result",
          "data": {
            "text/plain": [
              "['km', 'miles', 'league']"
            ]
          },
          "metadata": {},
          "execution_count": 43
        }
      ]
    },
    {
      "cell_type": "code",
      "metadata": {
        "id": "YOhOfqnYZRDo",
        "colab": {
          "base_uri": "https://localhost:8080/"
        },
        "outputId": "205c4c07-a50f-4e26-b033-18d0a446508d"
      },
      "source": [
        "units[-1]"
      ],
      "execution_count": 44,
      "outputs": [
        {
          "output_type": "execute_result",
          "data": {
            "text/plain": [
              "['kg', 'pound', 'stone']"
            ]
          },
          "metadata": {},
          "execution_count": 44
        }
      ]
    },
    {
      "cell_type": "code",
      "metadata": {
        "id": "CS7W9XukZRJJ",
        "colab": {
          "base_uri": "https://localhost:8080/",
          "height": 35
        },
        "outputId": "39818081-9359-4a13-90ab-3e7dd16e13c0"
      },
      "source": [
        "units[-2][-3]"
      ],
      "execution_count": 45,
      "outputs": [
        {
          "output_type": "execute_result",
          "data": {
            "application/vnd.google.colaboratory.intrinsic+json": {
              "type": "string"
            },
            "text/plain": [
              "'km'"
            ]
          },
          "metadata": {},
          "execution_count": 45
        }
      ]
    },
    {
      "cell_type": "code",
      "metadata": {
        "id": "dNKNjjgYZedX",
        "colab": {
          "base_uri": "https://localhost:8080/",
          "height": 35
        },
        "outputId": "a4f6f05b-5cb3-42d3-d503-8a28b8464270"
      },
      "source": [
        "units[-1][-3]"
      ],
      "execution_count": 46,
      "outputs": [
        {
          "output_type": "execute_result",
          "data": {
            "application/vnd.google.colaboratory.intrinsic+json": {
              "type": "string"
            },
            "text/plain": [
              "'kg'"
            ]
          },
          "metadata": {},
          "execution_count": 46
        }
      ]
    },
    {
      "cell_type": "code",
      "metadata": {
        "id": "rq-tDuGrZehd",
        "colab": {
          "base_uri": "https://localhost:8080/"
        },
        "outputId": "211edbde-7874-40b3-d4c5-cccc661f3182"
      },
      "source": [
        "units[-2][-2:]"
      ],
      "execution_count": 47,
      "outputs": [
        {
          "output_type": "execute_result",
          "data": {
            "text/plain": [
              "['miles', 'league']"
            ]
          },
          "metadata": {},
          "execution_count": 47
        }
      ]
    },
    {
      "cell_type": "code",
      "metadata": {
        "id": "bs78eHA8Zex6",
        "colab": {
          "base_uri": "https://localhost:8080/"
        },
        "outputId": "f7e58154-2553-4784-f89e-a1f6523c1eb9"
      },
      "source": [
        "units[-1][:-1]"
      ],
      "execution_count": 48,
      "outputs": [
        {
          "output_type": "execute_result",
          "data": {
            "text/plain": [
              "['kg', 'pound']"
            ]
          },
          "metadata": {},
          "execution_count": 48
        }
      ]
    }
  ]
}