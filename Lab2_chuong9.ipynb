{
  "nbformat": 4,
  "nbformat_minor": 0,
  "metadata": {
    "colab": {
      "name": "Lab2_chuong9.ipynb",
      "provenance": [],
      "authorship_tag": "ABX9TyM+01o4HaHernOxx86MjUwV",
      "include_colab_link": true
    },
    "kernelspec": {
      "name": "python3",
      "display_name": "Python 3"
    },
    "language_info": {
      "name": "python"
    }
  },
  "cells": [
    {
      "cell_type": "markdown",
      "metadata": {
        "id": "view-in-github",
        "colab_type": "text"
      },
      "source": [
        "<a href=\"https://colab.research.google.com/github/duy187it20710/laptrinhpythonnangcao/blob/main/Lab2_chuong9.ipynb\" target=\"_parent\"><img src=\"https://colab.research.google.com/assets/colab-badge.svg\" alt=\"Open In Colab\"/></a>"
      ]
    },
    {
      "cell_type": "markdown",
      "metadata": {
        "id": "4NoBlBQ_9Lw3"
      },
      "source": [
        "CHƯƠNG 9\n"
      ]
    },
    {
      "cell_type": "code",
      "metadata": {
        "colab": {
          "base_uri": "https://localhost:8080/"
        },
        "id": "-ZkbY4KP9NCN",
        "outputId": "871abf57-ddb6-4565-e17d-755a1c4c066f"
      },
      "source": [
        "celegans_phenotypes =  ['Emb','Him', 'Unc', 'Lon', 'Dpy','Sma'];\n",
        "for phenotype in celegans_phenotypes:\n",
        "    print(phenotype)"
      ],
      "execution_count": 1,
      "outputs": [
        {
          "output_type": "stream",
          "name": "stdout",
          "text": [
            "Emb\n",
            "Him\n",
            "Unc\n",
            "Lon\n",
            "Dpy\n",
            "Sma\n"
          ]
        }
      ]
    },
    {
      "cell_type": "code",
      "metadata": {
        "colab": {
          "base_uri": "https://localhost:8080/"
        },
        "id": "GDzGjeP79NEU",
        "outputId": "205292e6-129d-496d-9fbb-789e8724c2af"
      },
      "source": [
        "half_lives = [87.74, 24110.0,6537.0, 14.4, 376000.0];\n",
        "for value in half_lives:\n",
        "    print(value,end='')"
      ],
      "execution_count": 2,
      "outputs": [
        {
          "output_type": "stream",
          "name": "stdout",
          "text": [
            "87.7424110.06537.014.4376000.0"
          ]
        }
      ]
    },
    {
      "cell_type": "code",
      "metadata": {
        "colab": {
          "base_uri": "https://localhost:8080/"
        },
        "id": "QYuodPvs9NWg",
        "outputId": "c29b2056-5ac2-4dca-912e-1380c7196bff"
      },
      "source": [
        "whales =  [5, 4, 7, 3, 2, 3, 2, 6, 4, 2, 1, 7, 1, 3];\n",
        "more_whales = []\n",
        "for count in whales:\n",
        "    more_whales.append(count+1)\n",
        "print(more_whales)"
      ],
      "execution_count": 3,
      "outputs": [
        {
          "output_type": "stream",
          "name": "stdout",
          "text": [
            "[6, 5, 8, 4, 3, 4, 3, 7, 5, 3, 2, 8, 2, 4]\n"
          ]
        }
      ]
    },
    {
      "cell_type": "code",
      "metadata": {
        "id": "h2j42__99NYk"
      },
      "source": [
        "alkaline_earth_metals = [[4, 9.012], [12, 24.305],[20, 40.078], [38, 87.62],[56, 137.327], [88, 226]]"
      ],
      "execution_count": 4,
      "outputs": []
    },
    {
      "cell_type": "code",
      "metadata": {
        "colab": {
          "base_uri": "https://localhost:8080/"
        },
        "id": "bBsbETnA9Na3",
        "outputId": "5d3b6cc1-edae-47a3-f1b7-7d0999cbeda5"
      },
      "source": [
        "for inner_list in alkaline_earth_metals:\n",
        "  print(inner_list[0])\n",
        "  print(inner_list[1])"
      ],
      "execution_count": 5,
      "outputs": [
        {
          "output_type": "stream",
          "name": "stdout",
          "text": [
            "4\n",
            "9.012\n",
            "12\n",
            "24.305\n",
            "20\n",
            "40.078\n",
            "38\n",
            "87.62\n",
            "56\n",
            "137.327\n",
            "88\n",
            "226\n"
          ]
        }
      ]
    },
    {
      "cell_type": "code",
      "metadata": {
        "colab": {
          "base_uri": "https://localhost:8080/"
        },
        "id": "LY2v-mlu9Nc6",
        "outputId": "123eb488-fe2b-46e3-8b50-7f9fa7f6e73f"
      },
      "source": [
        "number_and_weight = []\n",
        "for inner_list in alkaline_earth_metals:\n",
        "  print(number_and_weight.append(inner_list[0]))\n",
        "  print(number_and_weight.append(inner_list[1]))"
      ],
      "execution_count": 6,
      "outputs": [
        {
          "output_type": "stream",
          "name": "stdout",
          "text": [
            "None\n",
            "None\n",
            "None\n",
            "None\n",
            "None\n",
            "None\n",
            "None\n",
            "None\n",
            "None\n",
            "None\n",
            "None\n",
            "None\n"
          ]
        }
      ]
    },
    {
      "cell_type": "code",
      "metadata": {
        "colab": {
          "base_uri": "https://localhost:8080/"
        },
        "id": "4BEyTRuy9cBB",
        "outputId": "90f826bb-a3f1-41de-b873-0c3721ea36f4"
      },
      "source": [
        "text = \"\"\n",
        "while text.lower() != \"quit\":\n",
        "  text = input(\"Please enter a chemical formula (or 'quit' to exit): \")\n",
        "if text == \"quit\":\n",
        "  print(\"...exiting program\")\n",
        "elif text == \"H2O\":\n",
        "  print(\"Water\")\n",
        "elif text == \"NH3\":\n",
        "  print(\"Ammonia\")\n",
        "elif text == \"CH4\":\n",
        "  print(\"Methane\")\n",
        "else:\n",
        "  print(\"Unknown compound\")"
      ],
      "execution_count": 7,
      "outputs": [
        {
          "output_type": "stream",
          "name": "stdout",
          "text": [
            "Please enter a chemical formula (or 'quit' to exit): CH4\n",
            "Please enter a chemical formula (or 'quit' to exit): quit\n",
            "...exiting program\n"
          ]
        }
      ]
    },
    {
      "cell_type": "code",
      "metadata": {
        "colab": {
          "base_uri": "https://localhost:8080/"
        },
        "id": "oa_bVLOn9hJs",
        "outputId": "83510e67-9260-4b5a-ccb3-c81fc6cc5822"
      },
      "source": [
        "country_populations = [1295, 23, 7, 3, 47, 21]\n",
        "total = 0\n",
        "for population in country_populations:\n",
        "  total += population\n",
        "total"
      ],
      "execution_count": 8,
      "outputs": [
        {
          "output_type": "execute_result",
          "data": {
            "text/plain": [
              "1396"
            ]
          },
          "metadata": {},
          "execution_count": 8
        }
      ]
    }
  ]
}